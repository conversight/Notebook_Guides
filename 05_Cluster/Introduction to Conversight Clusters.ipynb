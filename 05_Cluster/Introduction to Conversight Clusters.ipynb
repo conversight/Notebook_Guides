{
 "cells": [
  {
   "cell_type": "markdown",
   "id": "0fff9bd1-ded1-45d1-96eb-759e9f414f59",
   "metadata": {},
   "source": [
    "# Introduction to Conversight Clusters"
   ]
  },
  {
   "cell_type": "markdown",
   "id": "e5273315-bae8-4e62-9029-6bc4c0890221",
   "metadata": {},
   "source": [
    "Conversight clusters are part of the larger Conversight compute farm, providing users with the capability to create compute subscriptions and initiate new clusters with customizable configurations. This flexibility allows users to tailor their computing environments based on the specific needs of their computational tasks or workflows within the Conversight platform.\n",
    "\n",
    "Let's explore the cluster feature by importing the cluster module from conversight library"
   ]
  },
  {
   "cell_type": "code",
   "execution_count": 1,
   "id": "775f7470-6ab8-43b0-aee2-3412f964cd2d",
   "metadata": {},
   "outputs": [],
   "source": [
    "from conversight import Cluster"
   ]
  },
  {
   "cell_type": "code",
   "execution_count": 3,
   "id": "eb15613a-6f6b-4a02-a53f-bd7518ba263b",
   "metadata": {},
   "outputs": [
    {
     "name": "stdout",
     "output_type": "stream",
     "text": [
      "\u001b[0;34m[2023-12-01 16:22:12,000] [INFO] Clusters loaded successfully...\u001b[0m\n"
     ]
    }
   ],
   "source": [
    "cls = Cluster()"
   ]
  },
  {
   "cell_type": "markdown",
   "id": "eb5e41a5-2bd3-4650-9f0f-ff134dc3801c",
   "metadata": {},
   "source": [
    "Now that the cluster module has been initiated this will load the available subscriptions and their running clusters based on the access level. You have the following options in the running clusters\n",
    "\n",
    "- connect -> This method will connect the cluster to the notebook\n",
    "- disconnect -> This method will disconnect the cluster from the notebook\n",
    "- stop -> This method stops the current cluster from the subscription\n",
    "- start -> This method starts a new cluster from the subscription"
   ]
  },
  {
   "cell_type": "markdown",
   "id": "2a69f42f-2200-4bc5-83f6-0335d6286946",
   "metadata": {},
   "source": [
    "Let's connect to the running cluster by calling the connect() function"
   ]
  },
  {
   "cell_type": "code",
   "execution_count": 4,
   "id": "4fa3ffa7-3f87-4fbf-83d8-855ee82eb22b",
   "metadata": {},
   "outputs": [
    {
     "name": "stdout",
     "output_type": "stream",
     "text": [
      "\u001b[0;34m[2023-12-01 16:24:12,957] [INFO] Cluster [cluster-121b4bom] connected successfully..\u001b[0m\n",
      "\u001b[2m\u001b[1m\u001b[36m(scheduler +26s)\u001b[0m Tip: use `ray status` to view detailed cluster status. To disable these messages, set RAY_SCHEDULER_EVENTS=0.\n",
      "\u001b[2m\u001b[1m\u001b[33m(scheduler +26s)\u001b[0m Warning: The following resource request cannot be scheduled right now: {'CPU': 1.0}. This is likely due to all cluster resources being claimed by actors. Consider creating fewer actors or adding more nodes to this Ray cluster.\n",
      "\u001b[2m\u001b[1m\u001b[33m(scheduler +1m1s)\u001b[0m Warning: The following resource request cannot be scheduled right now: {'CPU': 1.0}. This is likely due to all cluster resources being claimed by actors. Consider creating fewer actors or adding more nodes to this Ray cluster.\n"
     ]
    }
   ],
   "source": [
    "cls.cxapp_demo_cluster.cluster_121b4bom.connect()"
   ]
  },
  {
   "cell_type": "markdown",
   "id": "9e6f68f3-d21e-4af3-97a8-c37302e64a82",
   "metadata": {},
   "source": [
    "Now that the cluster has been conected, whatever task/flow run in the notebook will be executed in the cluster itself"
   ]
  },
  {
   "cell_type": "markdown",
   "id": "401dcd1e-63f0-4526-b921-fc4a62585c9c",
   "metadata": {},
   "source": [
    "Similar way you can disconnect the cluster by calling the disconnect() function"
   ]
  },
  {
   "cell_type": "code",
   "execution_count": 5,
   "id": "5239c82f-5a89-4198-ad7b-b27c7c49a1ed",
   "metadata": {},
   "outputs": [
    {
     "name": "stdout",
     "output_type": "stream",
     "text": [
      "\u001b[0;34m[2023-12-01 16:25:56,813] [INFO] Cluster [cluster-121b4bom] disconnected successfully..\u001b[0m\n"
     ]
    }
   ],
   "source": [
    "cls.cxapp_demo_cluster.cluster_121b4bom.disconnect()"
   ]
  },
  {
   "cell_type": "markdown",
   "id": "d55b3869-2a78-4655-a760-fb1786cdcc94",
   "metadata": {},
   "source": [
    "To terminate or stop the running cluster we have to call the stop() function"
   ]
  },
  {
   "cell_type": "code",
   "execution_count": 7,
   "id": "ebec8410-19d9-40dc-afbf-c36cd6b7954d",
   "metadata": {},
   "outputs": [
    {
     "name": "stdout",
     "output_type": "stream",
     "text": [
      "\u001b[0;34m[2023-12-01 16:32:07,351] [INFO] cluster [cluster-121b4bom] terminated !!\u001b[0m\n",
      "\u001b[0;34m[2023-12-01 16:32:07,630] [INFO] Currently no cluster is running. Please use the start() method to start a cluster\u001b[0m\n"
     ]
    }
   ],
   "source": [
    "cls.cxapp_demo_cluster.cluster_121b4bom.stop()"
   ]
  },
  {
   "cell_type": "code",
   "execution_count": null,
   "id": "14740c45-0b88-4b51-be19-b72047dd3c32",
   "metadata": {},
   "outputs": [],
   "source": []
  }
 ],
 "metadata": {
  "kernelspec": {
   "display_name": "Python 3 (ipykernel)",
   "language": "python",
   "name": "python3"
  },
  "language_info": {
   "codemirror_mode": {
    "name": "ipython",
    "version": 3
   },
   "file_extension": ".py",
   "mimetype": "text/x-python",
   "name": "python",
   "nbconvert_exporter": "python",
   "pygments_lexer": "ipython3",
   "version": "3.9.10"
  }
 },
 "nbformat": 4,
 "nbformat_minor": 5
}
