{
 "cells": [
  {
   "cell_type": "markdown",
   "id": "3f302359-62b1-44dd-af31-1d198a2d8f3f",
   "metadata": {},
   "source": [
    "# Introduction to Tasks & Flows"
   ]
  },
  {
   "cell_type": "markdown",
   "id": "12bd672c-c06c-4e41-9593-4b52a413a752",
   "metadata": {},
   "source": [
    "## Tasks"
   ]
  },
  {
   "cell_type": "markdown",
   "id": "1d29f7c2-93d4-49bb-88b0-bb859d637703",
   "metadata": {},
   "source": [
    "Lets create couple of conversight tasks and work with task libraries. To start with, import the required modules from the conversight library"
   ]
  },
  {
   "cell_type": "code",
   "execution_count": null,
   "id": "c8bdeb68-f08e-4b0a-a011-8ca537b561b0",
   "metadata": {},
   "outputs": [],
   "source": [
    "from conversight import TaskLibrary, task , FlowLibrary , Flow, Parameter, SmartAnalytics, Context"
   ]
  },
  {
   "cell_type": "code",
   "execution_count": 2,
   "id": "eed8ee29-0066-4210-aa18-146d7b76d78c",
   "metadata": {
    "slideshow": {
     "slide_type": "slide"
    },
    "tags": []
   },
   "outputs": [],
   "source": [
    "import pandas "
   ]
  },
  {
   "cell_type": "code",
   "execution_count": 4,
   "id": "81afc55c-373b-48fd-98d6-c3a3b04d71c4",
   "metadata": {},
   "outputs": [],
   "source": [
    "@task\n",
    "def resolve_query( dataset_id : str , query: str  , ctx : Context) -> dict:\n",
    "    ''''Task that converts a standard query into conversight platform query'''\n",
    "  \n",
    "    try:\n",
    "        import os\n",
    "        import requests \n",
    "\n",
    "        dataEngineURL = \"{}/formatQuery\".format(os.getenv(\"DATAENGINE_SERVICE\"))\n",
    "        body = {\"query\": query, \"dataSetID\": dataset_id}\n",
    "         \n",
    "        response = requests.post(url=dataEngineURL, json=body)\n",
    "        status = {401:\"Un Authorized\", 500: \"User does not have dataset Access\", 400: \"Bad Request\"}                                                             \n",
    "        if response.status_code in status:\n",
    "            return {\"error\":status[response.status_code]}\n",
    "            \n",
    "        res = response.json()\n",
    "        if res is not None:\n",
    "            return res\n",
    "        else:\n",
    "            return {\"error\": \"Empty response from data engine \"}\n",
    "    except Exception as e:\n",
    "        return {\"error\": str(e)}"
   ]
  },
  {
   "cell_type": "markdown",
   "id": "4a8d2916-0e9d-4c5c-a2ea-42d3c28ad538",
   "metadata": {},
   "source": [
    "## Run the task"
   ]
  },
  {
   "cell_type": "markdown",
   "id": "c04a91aa-6e5c-48c2-aea8-558a77d806f1",
   "metadata": {},
   "source": [
    "To run or execute a task, use the run function. Providing the inputs are in the required format, the task can be executed."
   ]
  },
  {
   "cell_type": "code",
   "execution_count": null,
   "id": "3bedf30c-e743-49c0-a4af-43a13080b0c5",
   "metadata": {},
   "outputs": [],
   "source": [
    "resolve_query.run(dataset_id=\"655ceb56-HrXES9SSm\", query=\"\"\"Select @RetailSales.revenue as newcost, @RetailSales.delivery_date, @RetailSales.buyer from #RetailSales\"\"\")"
   ]
  },
  {
   "cell_type": "markdown",
   "id": "59980697-b524-4450-9cff-c09f72b07a72",
   "metadata": {},
   "source": [
    "The task takes 3 inputs but only 2 were given, this is because the third is a context argument which is handled by the Athena internally"
   ]
  },
  {
   "cell_type": "markdown",
   "id": "db17a3e0-6da8-46d9-b2d7-f49af38a6576",
   "metadata": {},
   "source": [
    "## Register the task"
   ]
  },
  {
   "cell_type": "code",
   "execution_count": 5,
   "id": "d763c424-ab56-47be-a4f2-a3115479242e",
   "metadata": {},
   "outputs": [
    {
     "name": "stdout",
     "output_type": "stream",
     "text": [
      "\u001b[0;34m[2023-11-21 19:00:48,231] [INFO] resolve_query has been successfully registered. The most recent version available is 0.1 !!\u001b[0m\n"
     ]
    }
   ],
   "source": [
    "description=\"Task that converts a standard query into conversight platform query\"\n",
    "resolve_query.register(libraryName=\"cxapp\", description=description, sourceControl=\"edit\", apiAccess=True, deployable=True)"
   ]
  },
  {
   "cell_type": "markdown",
   "id": "02c360f2-1afb-4e05-a7dd-591564e8af8b",
   "metadata": {},
   "source": [
    "When we register the task, the first version of that task is saved. If we make a code change and register that task, it is saved as a new version. Let's create two more tasks for this example to create a smart analytics"
   ]
  },
  {
   "cell_type": "code",
   "execution_count": 6,
   "id": "10dcea2d-293f-4e3e-bea1-d7b1d8c93db4",
   "metadata": {},
   "outputs": [],
   "source": [
    "@task\n",
    "def get_data(ctx: Context, queryInfo: dict) -> pandas.core.frame.DataFrame:\n",
    "    '''get the data from database based on the given query''' \n",
    "    \n",
    "    try:\n",
    "        from conversight import TaskRunError\n",
    "        import pyarrow as pa\n",
    "        from heavyai import connect\n",
    "        \n",
    "        if isinstance(queryInfo, TaskRunError):\n",
    "            ctx.log.error(\"Received error from previous task, skipping the process: {}\".format(queryInfo))\n",
    "            return queryInfo\n",
    "    \n",
    "        fullUrl = queryInfo[\"connectionDetails\"][\"connectionData\"][\"url\"].split(\":\")\n",
    "        con = connect(\n",
    "            host=fullUrl[0],\n",
    "            dbname=queryInfo[\"connectionDetails\"][\"connectionData\"][\"database\"],\n",
    "            user=queryInfo[\"connectionDetails\"][\"connectionData\"][\"username\"],\n",
    "            port=int(fullUrl[1]),\n",
    "            password=queryInfo[\"connectionDetails\"][\"connectionData\"][\"password\"],\n",
    "        )\n",
    "        \n",
    "        df = con.select_ipc(queryInfo[\"query\"])\n",
    "        return df\n",
    "    except Exception as e:\n",
    "        print(\"Exception in omnisciToPandas: {}\".format(str(e)))\n",
    "        return {\"status\": \"failed\", \"message\": str(e)}\n"
   ]
  },
  {
   "cell_type": "code",
   "execution_count": 7,
   "id": "d3e13d12-58be-4bb5-b9bf-256befa82ef5",
   "metadata": {},
   "outputs": [
    {
     "name": "stdout",
     "output_type": "stream",
     "text": [
      "\u001b[0;34m[2023-11-21 19:01:00,708] [INFO] get_data has been successfully registered. The most recent version available is 0.1 !!\u001b[0m\n"
     ]
    }
   ],
   "source": [
    "description = \"get the data from database based on the given query\"\n",
    "get_data.register(libraryName=\"cxapp\", description=description, sourceControl=\"edit\", apiAccess=True, deployable=True)"
   ]
  },
  {
   "cell_type": "code",
   "execution_count": 15,
   "id": "6958fc01-c39a-4f23-813d-a28e6ac510cb",
   "metadata": {},
   "outputs": [],
   "source": [
    "@task\n",
    "def create_smart_analytics(ctx: Context, objectName: str, dataSetId: str, dataFrame: pandas.core.frame.DataFrame, isArrow: bool=False , isOverwrite: bool=True)-> dict:\n",
    "    '''Task will cretae smart Analytics '''\n",
    "    try:\n",
    "        from conversight import TaskRunError, SmartAnalytics\n",
    "        if isinstance(dataFrame, TaskRunError):\n",
    "            ctx.log.error(\"Error from previous task for dataFrame: {}\".format(dataFrame))\n",
    "            return dataFrame\n",
    "            \n",
    "        sm_obj = SmartAnalytics(dataSetId, ctx.token)\n",
    "        isCreated = sm_obj.create(objectName, dataFrame, isArrow, isOverwrite, True, ctx.token)\n",
    "        \n",
    "        if \"status\" in isCreated and isCreated[\"status\"] == \"success\":\n",
    "            return {\"status\": \"success\", \"message \": isCreated[\"message\"]}\n",
    "        elif \"status\" in isCreated and isCreated[\"status\"] != \"success\":\n",
    "            ctx.log.critical(\"Failure msg from  Failed status \")\n",
    "            return  {\"status\": \"failed\", \"message\": isCreated[\"message\"]}\n",
    "        else:\n",
    "            return {\"status\": \"failed\", \"message\": isCreated}\n",
    "            ctx.log.critical(\"Smart Analytics   creation is failed\")\n",
    "    except Exception as e:\n",
    "        print(\"Error From createSmartAnalytics {}\".format(str(e)))\n",
    "        return {\"status\": \"failed\", \"message\": str(e)}"
   ]
  },
  {
   "cell_type": "code",
   "execution_count": 16,
   "id": "f1998796-3654-4e4e-8b2e-b3f93d2161a5",
   "metadata": {},
   "outputs": [
    {
     "name": "stdout",
     "output_type": "stream",
     "text": [
      "\u001b[0;34m[2023-11-21 19:04:14,483] [INFO] create_smart_analytics has been successfully registered. The most recent version available is 0.2 !!\u001b[0m\n"
     ]
    }
   ],
   "source": [
    "description = \"This task will create a new smart analytics\"\n",
    "create_smart_analytics.register(libraryName=\"cxapp\", description=description, sourceControl=\"edit\", apiAccess=True, deployable=True)"
   ]
  },
  {
   "cell_type": "markdown",
   "id": "2982303b-a82d-4a94-9337-1c220cbd6607",
   "metadata": {},
   "source": [
    "## TaskLibrary"
   ]
  },
  {
   "cell_type": "markdown",
   "id": "a06ab134-4cd7-4040-b398-aa9ac77f390e",
   "metadata": {},
   "source": [
    "Now that all the three tasks have been created and registered in the conversight library. If you plan to reuse that task, it will be saved in the Task library. TaskLibrary is a catalog in ConverSight that includes all of the available tasks organized by library."
   ]
  },
  {
   "cell_type": "code",
   "execution_count": 17,
   "id": "618480f2-c0ff-48b2-ac7b-050374a0db0c",
   "metadata": {
    "tags": []
   },
   "outputs": [
    {
     "name": "stdout",
     "output_type": "stream",
     "text": [
      "Tasks loaded  !!\n"
     ]
    }
   ],
   "source": [
    "tsk = TaskLibrary()"
   ]
  },
  {
   "cell_type": "markdown",
   "id": "20e922e7-bc9e-4cf0-8252-846f50e5dbfd",
   "metadata": {},
   "source": [
    "## Flows"
   ]
  },
  {
   "cell_type": "markdown",
   "id": "887205b3-ea09-424b-b719-a8eeaf8c4822",
   "metadata": {},
   "source": [
    "A Flow in ConverSight is the core component of the system. Similar to tasks, Flows take inputs, perform operations and generate outcomes. Flows act as managers, coordinating tasks for efficient execution, making complex tasks achievable within ConverSight. It’s crucial to note that a Flow is made up entirely of Tasks.\n",
    "\n",
    "Flows are identical to functions. They can accept inputs, perform work, and output results. The Flow starts with with Flow() as flow. "
   ]
  },
  {
   "cell_type": "code",
   "execution_count": 18,
   "id": "92b32f62-fbda-4834-9d80-ff69f4956eab",
   "metadata": {},
   "outputs": [],
   "source": [
    "with Flow(name=\"cxapp_smart_analytics\") as flow:\n",
    "    datasetIdEffectiveness = Parameter(\"datasetId\", \"655ceb56-HrXES9SSm\")\n",
    "    Query = Parameter(\"Query\", \"\"\"Select @RetailSales.revenue as newcost, @RetailSales.delivery_date, @RetailSales.buyer from #RetailSales\"\"\")\n",
    "    objectName = Parameter(\"objectName\", \"Flow_Sales\")\n",
    "    isArrow = Parameter(\"arrowData\", False)\n",
    "    isOverWrite = Parameter(\"overwriteTable\", False)\n",
    "    isPublish = Parameter(\"publishDataset\", True)\n",
    "    resolvedForecastQuery = tsk.cxapp.resolve_query(datasetIdEffectiveness, Query)\n",
    "    forecast = tsk.cxapp.get_data(resolvedForecastQuery)\n",
    "    smartAnalytics = tsk.cxapp.create_smart_analytics(objectName, datasetIdEffectiveness, forecast, isArrow, isOverWrite)\n",
    "   "
   ]
  },
  {
   "cell_type": "markdown",
   "id": "4be66c6c-7107-449c-a92b-513e17f1169c",
   "metadata": {},
   "source": [
    "## Run the flow"
   ]
  },
  {
   "cell_type": "markdown",
   "id": "0e296830-01ab-4901-a66b-f904cf702ba9",
   "metadata": {},
   "source": [
    "To run the flow, use the run function, by default flow will take the default arguments defined within the construction of the flow. If you supply different values then it should be named parameters to the run function"
   ]
  },
  {
   "cell_type": "code",
   "execution_count": 19,
   "id": "e87e58c6-510d-48c4-9b06-cae31723e00e",
   "metadata": {},
   "outputs": [
    {
     "name": "stdout",
     "output_type": "stream",
     "text": [
      "skipLog is: False\n",
      "\u001b[0;34m[2023-11-21 19:04:19,234] [INFO] [Main-Flow]  Received request from AI Workbench, considering as test run..\u001b[0m\n",
      "\u001b[0;34m[2023-11-21 19:04:19,235] [INFO] [Main-Flow]  No input parameters detected, running with default or previous run parameters\u001b[0m\n",
      "\u001b[0;34m[2023-11-21 19:04:19,237] [INFO] Context Actor [aac402da2e7a4baa9a239b15681aa0c0] deployed..\u001b[0m\n",
      "\u001b[36m(runWrapperNotebook pid=528)\u001b[0m \u001b[0;34m[2023-11-21 19:04:31,578] [INFO] Setting connection details\u001b[0m\n",
      "\u001b[36m(runWrapperNotebook pid=528)\u001b[0m \u001b[33;20m[2023-11-21 19:04:34,002] [WARNING] Dataset [655ceb56-HrXES9SSm] is not active, current status is: Active and refreshStatus: Active]\u001b[0m\n",
      "\u001b[0;34m[2023-11-21 19:04:35,720] [INFO] [Main-Flow]  Flow response: [{status: success, message : Smart analytics created and sme published successfully !!}]\u001b[0m\n"
     ]
    },
    {
     "data": {
      "text/plain": [
       "[{'status': 'success',\n",
       "  'message ': 'Smart analytics created and sme published successfully !!'}]"
      ]
     },
     "execution_count": 19,
     "metadata": {},
     "output_type": "execute_result"
    },
    {
     "name": "stdout",
     "output_type": "stream",
     "text": [
      "\u001b[36m(runWrapperNotebook pid=528)\u001b[0m \u001b[0;34m[2023-11-21 19:04:35,718] [INFO] SME data published successfully !!\u001b[0m\n"
     ]
    }
   ],
   "source": [
    "flow.run()"
   ]
  },
  {
   "cell_type": "markdown",
   "id": "f765bbf0-1e31-42b6-99d4-367834913a4a",
   "metadata": {},
   "source": [
    "## Register the flow"
   ]
  },
  {
   "cell_type": "code",
   "execution_count": null,
   "id": "a12eac19-fdac-4261-b449-c703143d0041",
   "metadata": {},
   "outputs": [],
   "source": [
    "description = \"Smart analytics Flow\"\n",
    "flow.register(libraryName=\"cxapp\", flowName=\"cxapp_smart_analytics\",description=description)"
   ]
  },
  {
   "cell_type": "code",
   "execution_count": null,
   "id": "5f964982-33f5-4f4a-8f85-8d903e873028",
   "metadata": {},
   "outputs": [],
   "source": [
    "query = \"\"\"Select @RetailSales.revenue as newcost, @RetailSales.delivery_date, @RetailSales.buyer from #RetailSales\"\"\"\n",
    "flw.cxapp.cxapp_smart_analytics.run(datasetIdEffectiveness=\"650d3806-Jn6txRWIi\", objectName=\"Flow_Sales\", Query=query, isArrow=False, isOverWrite=False, isPublish=True)"
   ]
  },
  {
   "cell_type": "markdown",
   "id": "014f4a99-fb4d-4f0b-b2e2-28775b386578",
   "metadata": {},
   "source": [
    "## Flow Library"
   ]
  },
  {
   "cell_type": "code",
   "execution_count": 16,
   "id": "13eb7b7b-72c4-4dd6-b317-779b15d22e0d",
   "metadata": {},
   "outputs": [
    {
     "name": "stdout",
     "output_type": "stream",
     "text": [
      "Tasks loaded  !!\n"
     ]
    }
   ],
   "source": [
    "flw = FlowLibrary()"
   ]
  },
  {
   "cell_type": "code",
   "execution_count": null,
   "id": "c332bb89-97a5-4e7e-8b4d-56e3bde03080",
   "metadata": {},
   "outputs": [],
   "source": [
    "flw.cxapp.cxapp_smart_analytics.run()"
   ]
  },
  {
   "cell_type": "markdown",
   "id": "f19da153-0b2c-433d-9596-b338c1349371",
   "metadata": {},
   "source": [
    "## Promote the flow"
   ]
  },
  {
   "cell_type": "markdown",
   "id": "f1fee5ec-fc50-46ec-865e-8f285f831e50",
   "metadata": {},
   "source": [
    "Promote the flow to different visibility levels such as “O”, “U” or “P”. O” represents the organization level, “U” represents the user level and “P” represents the platform level."
   ]
  },
  {
   "cell_type": "code",
   "execution_count": 33,
   "id": "bb85dbaf-06fc-470d-bf1e-3b84623892ae",
   "metadata": {},
   "outputs": [
    {
     "name": "stdout",
     "output_type": "stream",
     "text": [
      "Version 0.5 for the Flow Sanity_Flow is already in level O, these are the levels available for you to promote => [S, P, O, U]\n"
     ]
    }
   ],
   "source": [
    "flw.cxapp.cxapp_smart_analytics(\"O\")"
   ]
  }
 ],
 "metadata": {
  "kernelspec": {
   "display_name": "Python 3 (ipykernel)",
   "language": "python",
   "name": "python3"
  },
  "language_info": {
   "codemirror_mode": {
    "name": "ipython",
    "version": 3
   },
   "file_extension": ".py",
   "mimetype": "text/x-python",
   "name": "python",
   "nbconvert_exporter": "python",
   "pygments_lexer": "ipython3",
   "version": "3.9.10"
  }
 },
 "nbformat": 4,
 "nbformat_minor": 5
}
