{
 "cells": [
  {
   "cell_type": "markdown",
   "id": "b01ec62a",
   "metadata": {},
   "source": [
    "# Introduction to Conversight Flows"
   ]
  },
  {
   "cell_type": "markdown",
   "id": "9d42ad8b-a663-431b-bc6e-5991da11426e",
   "metadata": {
    "tags": []
   },
   "source": [
    "Flow is something like a container for Tasks. It represents an entire application by describing the relationships and dependencies between tasks. Flows are DAGs, or \"directed acyclic graphs.\" This is a mathematical way of describing certain organizational principles."
   ]
  },
  {
   "cell_type": "markdown",
   "id": "c7302991",
   "metadata": {},
   "source": [
    "Before doing anything, let's create one more task say \"division\" to construct the flow"
   ]
  },
  {
   "cell_type": "code",
   "execution_count": 1,
   "id": "c1a6aed9",
   "metadata": {},
   "outputs": [],
   "source": [
    "from conversight import task"
   ]
  },
  {
   "cell_type": "code",
   "execution_count": 4,
   "id": "0af79e4e",
   "metadata": {},
   "outputs": [],
   "source": [
    "@task(name=\"division\", tags=[\"Arithmetic\", \"calculation\"])\n",
    "def division(x: int, y: int) -> float:\n",
    "    \"\"\"Simple division task\"\"\"\n",
    "    try:\n",
    "        return x / y\n",
    "    except Exception as e:\n",
    "        return e"
   ]
  },
  {
   "cell_type": "code",
   "execution_count": 5,
   "id": "5dae3371",
   "metadata": {},
   "outputs": [
    {
     "name": "stdout",
     "output_type": "stream",
     "text": [
      "\u001b[0;34m[2023-11-29 04:20:26,201] [INFO] division has been successfully registered. The most recent version available is 0.3 !!\u001b[0m\n"
     ]
    }
   ],
   "source": [
    "description = \"Simple division task\"\n",
    "division.register(libraryName=\"Arithmetic\", description=description, sourceControl=\"edit\", apiAccess=True)"
   ]
  },
  {
   "cell_type": "markdown",
   "id": "28767d59",
   "metadata": {},
   "source": [
    "Let's import Flow and Parameter from conversight library"
   ]
  },
  {
   "cell_type": "code",
   "execution_count": 2,
   "id": "a804052f",
   "metadata": {},
   "outputs": [],
   "source": [
    "from conversight import Flow, Parameter"
   ]
  },
  {
   "cell_type": "markdown",
   "id": "d6e000ad",
   "metadata": {},
   "source": [
    "Also import the task library from conversight to construct the flow"
   ]
  },
  {
   "cell_type": "code",
   "execution_count": 3,
   "id": "46f94e9d",
   "metadata": {},
   "outputs": [],
   "source": [
    "from conversight import TaskLibrary"
   ]
  },
  {
   "cell_type": "code",
   "execution_count": 10,
   "id": "66832dac-e0c5-4bda-bcdf-b7a9cbcb9523",
   "metadata": {},
   "outputs": [
    {
     "name": "stdout",
     "output_type": "stream",
     "text": [
      "Tasks loaded  !!\n"
     ]
    }
   ],
   "source": [
    "tsk = TaskLibrary()"
   ]
  },
  {
   "cell_type": "markdown",
   "id": "7ac9a476",
   "metadata": {},
   "source": [
    "Create a conversight Flow with the python \"with\" statement.\n",
    "The \"Flow\" has the following input arguments.\n",
    "| Arguments     | Description |\n",
    "| :------------ | :----------- |\n",
    "| name | The name of the task, its an optional argument and function name will be taken if this field is empty |\n",
    "| description | Description of the flow |\n",
    "| tags | The list of tags associated with the task. |\n",
    "\n",
    "Parameter module defines the flow inputs whenever a flow is run. Setting a default value to paramater is optional."
   ]
  },
  {
   "cell_type": "code",
   "execution_count": 11,
   "id": "47cb1fa5",
   "metadata": {},
   "outputs": [],
   "source": [
    "with Flow(name=\"Arithmetic_Calculations\", description=\"A simple arithmetic flow\", tags = [\"Arithmetic\", \"calculation\"]) as flow:\n",
    "    x = Parameter('x',0)\n",
    "    y = Parameter('y',0)\n",
    "    z = Parameter('z',5)\n",
    "    \n",
    "    xx = tsk.Arithmetic.multiplication(x, y)\n",
    "    zz = tsk.Arithmetic.division(xx, z) # output of multiplication task \"xx\" is the input of division task"
   ]
  },
  {
   "cell_type": "markdown",
   "id": "6e710c19",
   "metadata": {},
   "source": [
    "Now the Flow has been created, we can run the flow by \"run\" method. The run method takes arbitary arguments that are defined within the Flow context as parameters"
   ]
  },
  {
   "cell_type": "code",
   "execution_count": 12,
   "id": "ec5fcd07",
   "metadata": {},
   "outputs": [
    {
     "name": "stdout",
     "output_type": "stream",
     "text": [
      "skipLog is: False\n",
      "\u001b[0;34m[2023-11-29 04:28:22,047] [INFO] [Main-Flow]  Received request from AI Workbench, considering as test run..\u001b[0m\n",
      "\u001b[0;34m[2023-11-29 04:28:22,050] [INFO] Context Actor [b3263dd4acb44fed8a3e60b0d27869e8] deployed..\u001b[0m\n",
      "\u001b[0;34m[2023-11-29 04:28:33,299] [INFO] [Main-Flow]  Flow response: [20.0]\u001b[0m\n"
     ]
    },
    {
     "data": {
      "text/plain": [
       "[20.0]"
      ]
     },
     "execution_count": 12,
     "metadata": {},
     "output_type": "execute_result"
    }
   ],
   "source": [
    "flow.run(x=10, y=10, z=5)"
   ]
  },
  {
   "cell_type": "markdown",
   "id": "8e0fce5a",
   "metadata": {},
   "source": [
    "Once we are good with the output, we can register the current flow using the \"register\" method.\n",
    "The \"register\" has the following input arguments\n",
    "| Arguments     | Description |\n",
    "| :------------ | :----------- |\n",
    "| libraryName | The name of the library the flow has to be registered. It cannot be empty and spaces are not allowed. If the given library name is not present in the conversight, it will be created automatically. |\n",
    "| flowName | Name of the flow. if not specified last flow name will be taken. |\n",
    "| description | Description of the flow"
   ]
  },
  {
   "cell_type": "code",
   "execution_count": 13,
   "id": "32c4face",
   "metadata": {},
   "outputs": [
    {
     "data": {
      "text/plain": [
       "'The flow Arithmetic_Calculations has been registered successfully. Latest version available now is 0.3 !!'"
      ]
     },
     "execution_count": 13,
     "metadata": {},
     "output_type": "execute_result"
    }
   ],
   "source": [
    "flow.register(libraryName=\"Arithmetic\", flowName=\"Arithmetic_Calculations\", description=\"A simple arithmetic flow\")"
   ]
  },
  {
   "cell_type": "markdown",
   "id": "cb08280c",
   "metadata": {},
   "source": [
    "So that we have the flow registered,  it's time to import the flow library and use the different flow management features"
   ]
  },
  {
   "cell_type": "code",
   "execution_count": 14,
   "id": "53803b3d",
   "metadata": {},
   "outputs": [],
   "source": [
    "from conversight import FlowLibrary"
   ]
  },
  {
   "cell_type": "code",
   "execution_count": 15,
   "id": "3b9c4b17-870d-49b0-bb0b-388a8c039ec0",
   "metadata": {},
   "outputs": [
    {
     "name": "stdout",
     "output_type": "stream",
     "text": [
      "Flows loaded !!\n"
     ]
    }
   ],
   "source": [
    "flw = FlowLibrary()"
   ]
  },
  {
   "cell_type": "markdown",
   "id": "b13a602a",
   "metadata": {},
   "source": [
    "Now we can see the flow \"Arithmetic_Calculations\" show up on the library \"Arithmetic\". This flow has the following features\n",
    "\n",
    "- run => This method will run the current flow and gives the response. The run method takes arbitary arguments that are defined within the Flow context as parameters. \n",
    "- getVersions => This method will retrieve the available version for the Arithmetic_Calculations flow.  \n",
    "- setVersion => This method sets the version of the flow to be used for other features. It has the following arguments.  \n",
    "> - version (float): the version of the flow to be set as current version.  \n",
    "\n",
    "- deleteVersion => This method delete a specific version of the flow. It has the following arguments. \n",
    "> - version (float): the version of the flow to be set as current version. \n",
    "\n",
    "- delete => This method will delete the current flow and all its versions.    "
   ]
  },
  {
   "cell_type": "code",
   "execution_count": 2,
   "id": "3f4b9968",
   "metadata": {},
   "outputs": [
    {
     "name": "stderr",
     "output_type": "stream",
     "text": [
      "2021-09-02 15:25:34,096\tINFO services.py:1263 -- View the Ray dashboard at \u001b[1m\u001b[32mhttp://127.0.0.1:8265\u001b[39m\u001b[22m\n",
      "2021-09-02 15:25:34,099\tWARNING services.py:1749 -- WARNING: The object store is using /tmp instead of /dev/shm because /dev/shm has only 67108864 bytes available. This will harm performance! You may be able to free up space by deleting files in /dev/shm. If you are inside a Docker container, you can increase /dev/shm size by passing '--shm-size=4.86gb' to 'docker run' (or add it to the run_options list in a Ray cluster config). Make sure to set this to more than 30% of available RAM.\n"
     ]
    },
    {
     "data": {
      "text/plain": [
       "20.0"
      ]
     },
     "execution_count": 2,
     "metadata": {},
     "output_type": "execute_result"
    }
   ],
   "source": [
    "flowLibrary.Arithmetic.Arithmetic_Calculations.run(x=10, y=10, z=5)"
   ]
  },
  {
   "cell_type": "code",
   "execution_count": 18,
   "id": "1213d5d0-6bee-4d42-9437-1f25b4d68448",
   "metadata": {},
   "outputs": [
    {
     "data": {
      "text/plain": [
       "'Version 0.3 for the flow Arithmetic_Calculations has been promoted to O successfully !!'"
      ]
     },
     "execution_count": 18,
     "metadata": {},
     "output_type": "execute_result"
    }
   ],
   "source": [
    "flw.Arithmetic.Arithmetic_Calculations.promote(\"O\")"
   ]
  },
  {
   "cell_type": "code",
   "execution_count": 17,
   "id": "cdbe7638",
   "metadata": {},
   "outputs": [
    {
     "data": {
      "text/plain": [
       "\"At this moment U have the following versions: ['0.1', '0.2', '0.3']\""
      ]
     },
     "execution_count": 17,
     "metadata": {},
     "output_type": "execute_result"
    }
   ],
   "source": [
    "flw.Arithmetic.Arithmetic_Calculations.getVersions()"
   ]
  },
  {
   "cell_type": "code",
   "execution_count": 19,
   "id": "3c80bbc2",
   "metadata": {},
   "outputs": [
    {
     "data": {
      "text/plain": [
       "'Flow version for Arithmetic_Calculations changed to 0.1'"
      ]
     },
     "execution_count": 19,
     "metadata": {},
     "output_type": "execute_result"
    }
   ],
   "source": [
    "flw.Arithmetic.Arithmetic_Calculations.setVersion(0.1)"
   ]
  },
  {
   "cell_type": "code",
   "execution_count": null,
   "id": "b920203e",
   "metadata": {},
   "outputs": [],
   "source": [
    "flw.Arithmetic.Arithmetic_Calculations.deleteVersion(0.2)"
   ]
  },
  {
   "cell_type": "code",
   "execution_count": null,
   "id": "9ac7550f",
   "metadata": {},
   "outputs": [],
   "source": [
    "flw.Arithmetic.Arithmetic_Calculations.delete()"
   ]
  },
  {
   "cell_type": "code",
   "execution_count": null,
   "id": "30d2305e",
   "metadata": {},
   "outputs": [],
   "source": []
  }
 ],
 "metadata": {
  "kernelspec": {
   "display_name": "Python 3 (ipykernel)",
   "language": "python",
   "name": "python3"
  },
  "language_info": {
   "codemirror_mode": {
    "name": "ipython",
    "version": 3
   },
   "file_extension": ".py",
   "mimetype": "text/x-python",
   "name": "python",
   "nbconvert_exporter": "python",
   "pygments_lexer": "ipython3",
   "version": "3.9.10"
  },
  "widgets": {
   "application/vnd.jupyter.widget-state+json": {
    "state": {},
    "version_major": 2,
    "version_minor": 0
   }
  }
 },
 "nbformat": 4,
 "nbformat_minor": 5
}
