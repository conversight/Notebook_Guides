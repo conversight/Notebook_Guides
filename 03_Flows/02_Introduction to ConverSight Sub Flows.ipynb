{
 "cells": [
  {
   "cell_type": "markdown",
   "id": "461290b2-39b6-4a1f-9363-d388529678f7",
   "metadata": {},
   "source": [
    "# Introduction to Conversight Sub Flows"
   ]
  },
  {
   "cell_type": "markdown",
   "id": "5a058622-48bc-4b9f-a755-9db3bcd89447",
   "metadata": {},
   "source": [
    "Flows within fows are called as conversight subflows. Tasks and flows can be called within the flow construction. Although the sub flow will have its own set of activities like the construction of tasks, it will also be contributing to the master flow.\n",
    "\n",
    "The sub-flow can be executed independently and concurrently with other components of the main flow. This distributed execution enhances efficiency by leveraging parallel processing capabilities, enabling multiple tasks to be performed simultaneously. By breaking down the larger flow and distributing its execution through sub-flows, Conversight optimizes the utilization of computing resources."
   ]
  },
  {
   "cell_type": "markdown",
   "id": "e962347a-1f31-45ab-ae94-dc5b3550844e",
   "metadata": {},
   "source": [
    "For ease of understanding, let's design a basic subflow using arithmetic operations. We need to create a task that can be compatible with the sub flow response"
   ]
  },
  {
   "cell_type": "code",
   "execution_count": 8,
   "id": "91ab813b-6af6-4e0f-b1ce-77ab5d7b69ae",
   "metadata": {},
   "outputs": [],
   "source": [
    "from conversight import task, Context"
   ]
  },
  {
   "cell_type": "code",
   "execution_count": 9,
   "id": "0bac2def-6ad4-4c41-8d07-838b7ec4aeb9",
   "metadata": {},
   "outputs": [],
   "source": [
    "@task(name=\"square_root\", tags=[\"Arithmetic\", \"square_root\"])\n",
    "def square_root(x: int, ctx: Context) -> float:\n",
    "    \"\"\"Simple square_root task\"\"\"\n",
    "    try:\n",
    "        import math\n",
    "        from conversight import SubFlowResponse\n",
    "        if isinstance(x, SubFlowResponse):\n",
    "            x = ctx.get(x.response)[0]\n",
    "        return math.sqrt(x)\n",
    "    except Exception as e:\n",
    "        return e"
   ]
  },
  {
   "cell_type": "code",
   "execution_count": 10,
   "id": "31bd410a-e4d0-4f58-bf71-3dafbdbc8fb5",
   "metadata": {},
   "outputs": [
    {
     "data": {
      "text/plain": [
       "2.23606797749979"
      ]
     },
     "execution_count": 10,
     "metadata": {},
     "output_type": "execute_result"
    }
   ],
   "source": [
    "square_root.run(5)"
   ]
  },
  {
   "cell_type": "code",
   "execution_count": 11,
   "id": "d006eb5c-58a2-4a1f-887a-b29159ae56dc",
   "metadata": {},
   "outputs": [
    {
     "name": "stdout",
     "output_type": "stream",
     "text": [
      "\u001b[0;34m[2023-12-22 17:05:09,288] [INFO] square_root has been successfully registered. The most recent version available is 0.1 !!\u001b[0m\n"
     ]
    }
   ],
   "source": [
    "description = \"Simple square_root task\"\n",
    "square_root.register(libraryName=\"Arithmetic\", description=description, sourceControl=\"edit\", apiAccess=True)"
   ]
  },
  {
   "cell_type": "markdown",
   "id": "4364b433-4d47-411d-bdf4-81b14ccd5fae",
   "metadata": {},
   "source": [
    "The `square_root` task mentioned above was examined to ensure that the argument x type was `SubFlowResponse`. This ensures that the task is appropriate for both int data types and sub flow responses. A `SubFlowResponse` class with a variable response containing the actual reference is always returned when a sub flow is executed."
   ]
  },
  {
   "cell_type": "markdown",
   "id": "bee8538c-878f-4b37-b30b-6c939ac3e8d8",
   "metadata": {},
   "source": [
    "Now let's convert this task into a flow"
   ]
  },
  {
   "cell_type": "code",
   "execution_count": 14,
   "id": "e0283e25-dda2-41cb-a2fa-1240cc271b82",
   "metadata": {},
   "outputs": [],
   "source": [
    "from conversight import TaskLibrary, FlowLibrary, Flow, Parameter"
   ]
  },
  {
   "cell_type": "code",
   "execution_count": 13,
   "id": "c3e2393f-f865-4b8e-8658-60e85a915353",
   "metadata": {},
   "outputs": [
    {
     "name": "stdout",
     "output_type": "stream",
     "text": [
      "Tasks loaded  !!\n"
     ]
    }
   ],
   "source": [
    "tsk = TaskLibrary()"
   ]
  },
  {
   "cell_type": "code",
   "execution_count": 15,
   "id": "b1722933-305d-4dc1-9228-62971dc475ea",
   "metadata": {},
   "outputs": [
    {
     "name": "stdout",
     "output_type": "stream",
     "text": [
      "Flows loaded !!\n"
     ]
    }
   ],
   "source": [
    "flw = FlowLibrary()"
   ]
  },
  {
   "cell_type": "code",
   "execution_count": 16,
   "id": "b4fbe842-6711-4721-a7f8-395683396fd3",
   "metadata": {},
   "outputs": [
    {
     "name": "stdout",
     "output_type": "stream",
     "text": [
      "\u001b[33;20m[2023-12-22 17:18:07,290] [WARNING] Sub Flow detected, the response will be in the following format \n",
      "=> Successful response is SubFlowResponse class with context reference of sub-flow, use ctx.get(SubFlowResponse.response) to retrieve the context response in parent function \n",
      "=> Failed response is {status: Failed, message: <failed reason>}\u001b[0m\n"
     ]
    }
   ],
   "source": [
    "with Flow(name=\"Square_root_Flow\", description=\"A simple square root flow\", tags = [\"Arithmetic\", \"square root\"]) as flow:\n",
    "    x = Parameter('x',0)\n",
    "    y = Parameter('y',0)\n",
    "    z = Parameter('z',5)\n",
    "\n",
    "    subflow_response = flw.Arithmetic.Arithmetic_Calculations(x=x, y=y, z=z)\n",
    "    sqt_response = tsk.Arithmetic.square_root(subflow_response)"
   ]
  },
  {
   "cell_type": "markdown",
   "id": "4f6021c1-5380-4827-b60c-a56a88ae3257",
   "metadata": {},
   "source": [
    "As you can see the in the above flow we used the `Arithmetic_Calculations` as sub flow. This sub flow will run first and returned the response as `SubFlowResponse` to the main flow and it is then used by the `square_root` task in the main flow.\n",
    "\n",
    "Athena can detect the sub flows and show the warning of how to handle the sub flows within a flow"
   ]
  },
  {
   "cell_type": "code",
   "execution_count": 19,
   "id": "9049e051-5eb1-4d2c-bee5-40c2c5f20a87",
   "metadata": {},
   "outputs": [
    {
     "name": "stdout",
     "output_type": "stream",
     "text": [
      "\u001b[0;34m[2023-12-22 17:23:00,996] [INFO] [Main-Flow]  Received request from AI Workbench, considering as test run..\u001b[0m\n",
      "\u001b[0;34m[2023-12-22 17:23:01,000] [INFO] Context Actor [025aec7cb6da44c7b5759ec9da7c5412] deployed..\u001b[0m\n",
      "calls ==> call\n",
      "calls ==> call\n",
      "calls ==> call\n",
      "calls ==> call\n",
      "calls ==> call\n"
     ]
    },
    {
     "name": "stderr",
     "output_type": "stream",
     "text": [
      "\u001b[2m\u001b[36m(runWrapperNotebook pid=850)\u001b[0m E1222 17:23:02.827080980     917 chttp2_transport.cc:1160]             ipv4:100.109.95.67:58407: Received a GOAWAY with error code ENHANCE_YOUR_CALM and debug data equal to \"too_many_pings\". Current keepalive time (before throttling): 60000ms\n",
      "\u001b[2m\u001b[36m(runWrapperNotebook pid=879)\u001b[0m E1222 17:23:03.777282244     947 chttp2_transport.cc:1160]             ipv4:100.109.95.67:58407: Received a GOAWAY with error code ENHANCE_YOUR_CALM and debug data equal to \"too_many_pings\". Current keepalive time (before throttling): 60000ms\n"
     ]
    },
    {
     "name": "stdout",
     "output_type": "stream",
     "text": [
      "\u001b[2m\u001b[36m(runWrapperNotebook pid=1196)\u001b[0m \u001b[0;34m[2023-12-22 17:23:08,898] [INFO] Sub Flow running on Notebook..\u001b[0m\n",
      "\u001b[2m\u001b[36m(runWrapperNotebook pid=1196)\u001b[0m \u001b[0;34m[2023-12-22 17:23:09,070] [INFO] [Sub-Flow] Received request from AI Workbench, considering as test run..\u001b[0m\n",
      "\u001b[2m\u001b[36m(runWrapperNotebook pid=1196)\u001b[0m \u001b[0;34m[2023-12-22 17:23:09,162] [INFO] Context Actor [d339f9f7dd744b93adc686c37596d76a] deployed..\u001b[0m\n",
      "\u001b[2m\u001b[36m(runWrapperNotebook pid=1196)\u001b[0m calls ==> call\n",
      "\u001b[2m\u001b[36m(runWrapperNotebook pid=1196)\u001b[0m calls ==> call\n",
      "\u001b[2m\u001b[36m(runWrapperNotebook pid=1196)\u001b[0m calls ==> call\n",
      "\u001b[2m\u001b[36m(runWrapperNotebook pid=1196)\u001b[0m calls ==> call\n",
      "\u001b[2m\u001b[36m(runWrapperNotebook pid=1196)\u001b[0m calls ==> call\n",
      "\u001b[0;34m[2023-12-22 17:23:17,794] [INFO] [Main-Flow]  Flow response: [4.47213595499958]\u001b[0m\n"
     ]
    },
    {
     "data": {
      "text/plain": [
       "[4.47213595499958]"
      ]
     },
     "execution_count": 19,
     "metadata": {},
     "output_type": "execute_result"
    },
    {
     "name": "stdout",
     "output_type": "stream",
     "text": [
      "\u001b[2m\u001b[36m(runWrapperNotebook pid=1196)\u001b[0m \u001b[0;34m[2023-12-22 17:23:17,745] [INFO] [Sub-Flow] Flow response: [20.0]\u001b[0m\n",
      "\u001b[2m\u001b[36m(runWrapperNotebook pid=1196)\u001b[0m \u001b[0;34m[2023-12-22 17:23:17,747] [INFO] Setting up sub-flow response (Arithmetic_Calculations-5a02900d6f534338859d07a223b372fa) into context, use ctx.get(SubFlowResponse.response) to retrieve the response\u001b[0m\n",
      "\u001b[2m\u001b[36m(runWrapperNotebook pid=1196)\u001b[0m \u001b[0;34m[2023-12-22 17:23:17,790] [INFO] Context response from Sub-Flow: {response: Arithmetic_Calculations-5a02900d6f534338859d07a223b372fa}\u001b[0m\n"
     ]
    }
   ],
   "source": [
    "flow.run(x=10, y=10, z=5)"
   ]
  },
  {
   "cell_type": "markdown",
   "id": "01ee575c-77d2-442c-b78d-653c570e2948",
   "metadata": {},
   "source": [
    "Once we are good with the output, we can register the current flow using the \"register\" method."
   ]
  },
  {
   "cell_type": "code",
   "execution_count": 20,
   "id": "4e9d6d4c-83bd-407b-9e30-ec8480bcfbe8",
   "metadata": {},
   "outputs": [
    {
     "data": {
      "text/plain": [
       "'The flow Square_root_with_Sub_Flow has been registered successfully. Latest version available now is 0.1 !!'"
      ]
     },
     "execution_count": 20,
     "metadata": {},
     "output_type": "execute_result"
    }
   ],
   "source": [
    "flow.register(libraryName=\"Arithmetic\", flowName=\"Square_root_with_Sub_Flow\", description=\"A simple square_root flow\")"
   ]
  },
  {
   "cell_type": "markdown",
   "id": "ae4edff0-acdb-42cc-9347-fda1f500df70",
   "metadata": {},
   "source": [
    "you can use the `reload` function in the `flw` object to get the registered flow"
   ]
  },
  {
   "cell_type": "code",
   "execution_count": 22,
   "id": "1642adbc-6038-4296-8ddf-dbb005566adb",
   "metadata": {},
   "outputs": [
    {
     "name": "stdout",
     "output_type": "stream",
     "text": [
      "Flows loaded !!\n"
     ]
    }
   ],
   "source": [
    "flw.reload()"
   ]
  },
  {
   "cell_type": "code",
   "execution_count": 23,
   "id": "4a567911-c084-4c8a-9597-28b3f37fa609",
   "metadata": {},
   "outputs": [
    {
     "name": "stdout",
     "output_type": "stream",
     "text": [
      "\u001b[0;34m[2023-12-22 17:30:52,387] [INFO] [Main-Flow]  Received request from AI Workbench, considering as test run..\u001b[0m\n",
      "\u001b[0;34m[2023-12-22 17:30:52,390] [INFO] Context Actor [8e0e9b191fcd4840a16c0f6f31df1ac5] deployed..\u001b[0m\n",
      "calls ==> call\n",
      "calls ==> call\n",
      "calls ==> call\n",
      "calls ==> call\n",
      "calls ==> call\n",
      "\u001b[2m\u001b[36m(runWrapperNotebook pid=1625)\u001b[0m \u001b[0;34m[2023-12-22 17:31:00,380] [INFO] Sub Flow running on Notebook..\u001b[0m\n",
      "\u001b[2m\u001b[36m(runWrapperNotebook pid=1625)\u001b[0m \u001b[0;34m[2023-12-22 17:31:00,633] [INFO] [Sub-Flow] Received request from AI Workbench, considering as test run..\u001b[0m\n",
      "\u001b[2m\u001b[36m(runWrapperNotebook pid=1625)\u001b[0m \u001b[0;34m[2023-12-22 17:31:00,724] [INFO] Context Actor [368b860219814be381c5c82250ac8ffb] deployed..\u001b[0m\n",
      "\u001b[2m\u001b[36m(runWrapperNotebook pid=1625)\u001b[0m calls ==> call\n",
      "\u001b[2m\u001b[36m(runWrapperNotebook pid=1625)\u001b[0m calls ==> call\n",
      "\u001b[2m\u001b[36m(runWrapperNotebook pid=1625)\u001b[0m calls ==> call\n",
      "\u001b[2m\u001b[36m(runWrapperNotebook pid=1625)\u001b[0m calls ==> call\n",
      "\u001b[2m\u001b[36m(runWrapperNotebook pid=1625)\u001b[0m calls ==> call\n",
      "\u001b[2m\u001b[36m(runWrapperNotebook pid=1625)\u001b[0m \u001b[0;34m[2023-12-22 17:31:09,317] [INFO] [Sub-Flow] Flow response: [20.0]\u001b[0m\n",
      "\u001b[2m\u001b[36m(runWrapperNotebook pid=1625)\u001b[0m \u001b[0;34m[2023-12-22 17:31:09,320] [INFO] Setting up sub-flow response (Arithmetic_Calculations-3251eae44ff3497d9af84109737ebd65) into context, use ctx.get(SubFlowResponse.response) to retrieve the response\u001b[0m\n",
      "\u001b[0;34m[2023-12-22 17:31:09,387] [INFO] [Main-Flow]  Flow response: [4.47213595499958]\u001b[0m\n"
     ]
    },
    {
     "data": {
      "text/plain": [
       "[4.47213595499958]"
      ]
     },
     "execution_count": 23,
     "metadata": {},
     "output_type": "execute_result"
    },
    {
     "name": "stdout",
     "output_type": "stream",
     "text": [
      "\u001b[2m\u001b[36m(runWrapperNotebook pid=1625)\u001b[0m \u001b[0;34m[2023-12-22 17:31:09,383] [INFO] Context response from Sub-Flow: {response: Arithmetic_Calculations-3251eae44ff3497d9af84109737ebd65}\u001b[0m\n"
     ]
    }
   ],
   "source": [
    "flw.Arithmetic.Square_root_with_Sub_Flow.run(x=10, y=10, z=5)"
   ]
  },
  {
   "cell_type": "code",
   "execution_count": null,
   "id": "af8a45a5-d844-4947-842d-7cb76426f6c9",
   "metadata": {},
   "outputs": [],
   "source": []
  }
 ],
 "metadata": {
  "kernelspec": {
   "display_name": "Python 3 (ipykernel)",
   "language": "python",
   "name": "python3"
  },
  "language_info": {
   "codemirror_mode": {
    "name": "ipython",
    "version": 3
   },
   "file_extension": ".py",
   "mimetype": "text/x-python",
   "name": "python",
   "nbconvert_exporter": "python",
   "pygments_lexer": "ipython3",
   "version": "3.9.10"
  }
 },
 "nbformat": 4,
 "nbformat_minor": 5
}
