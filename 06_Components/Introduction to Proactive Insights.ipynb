{
 "cells": [
  {
   "cell_type": "markdown",
   "id": "09c60eb4-b162-450b-871f-5f67a78ca7eb",
   "metadata": {},
   "source": [
    "# Introduction to Proactive Insights"
   ]
  },
  {
   "cell_type": "markdown",
   "id": "e7cdf9cc-2ece-45f7-ba72-e2493eb5e626",
   "metadata": {},
   "source": [
    "**Proactive insights** generally refers to the practice of actively seeking and anticipating valuable information or knowledge before it becomes apparent or necessary. This concept is often associated with a proactive approach to data analysis, problem-solving, or decision-making."
   ]
  },
  {
   "cell_type": "markdown",
   "id": "c56baf95-17c4-4705-9a17-688a742eff4f",
   "metadata": {},
   "source": [
    "Let's import the Proactive Insight from conversight library"
   ]
  },
  {
   "cell_type": "code",
   "execution_count": 1,
   "id": "392bc1cd-6141-487c-9494-45e8b3484da4",
   "metadata": {},
   "outputs": [],
   "source": [
    "from conversight import ProactiveInsights"
   ]
  },
  {
   "cell_type": "markdown",
   "id": "0da6cbdf-9b83-446f-8493-a199aa883239",
   "metadata": {},
   "source": [
    "The ProactiveInsights module takes the following arguments.\n",
    "| Arguments     | Description |\n",
    "| :------------ | :----------- |\n",
    "| dataSetId | The id of the dataset to be accessed|\n",
    "| token | Token of user logged in. Its an optional argument. If no token provided by default user logged in token will be taken |"
   ]
  },
  {
   "cell_type": "code",
   "execution_count": 6,
   "id": "1edaced3-9f17-4481-b4eb-327923a64adc",
   "metadata": {},
   "outputs": [],
   "source": [
    "dataset_id = \"64b50875-qsF_OBj4i\""
   ]
  },
  {
   "cell_type": "markdown",
   "id": "e163dede-4d81-44e8-991d-cc78b961cf1e",
   "metadata": {},
   "source": [
    "You can get the dataset id by navigating to the side menu in the UI `Data Workbench -> Data Management` and click the dataset. In the browser address bar you can see the dataset id at the very end of the URL"
   ]
  },
  {
   "cell_type": "code",
   "execution_count": 7,
   "id": "5247fc1a-a636-4e34-bd91-94530cb953a8",
   "metadata": {},
   "outputs": [],
   "source": [
    "proinsight = ProactiveInsights(datasetId=dataset_id)"
   ]
  },
  {
   "cell_type": "markdown",
   "id": "b1743768-5f36-4e77-b165-01e95054ca28",
   "metadata": {},
   "source": [
    "Now the proactive insights module has been initiated let's see the most user accessed features\n",
    "\n",
    "- createInsight => This function creates insights for the given dataset\n",
    "  > - domain : Domain of the dataset\n",
    "  > - insightName : The name of the insight\n",
    "  > - data : Insight need to be alerted . If no data given, the insight will not be created\n",
    "  > - order :  To show the insight in the given order. Zero is not allowed. By default it set to 1\n",
    "  > - followupQuestion : To show the insight followup. If no data given follow up will not be shown\n",
    "  > - roles : To show the insight to the particular role. Need to add list of role ids. Cannot be 'None' or an empty list of strings\n",
    "  > - groups : To show the insight to the particular group. Need to add list of group ids. Cannot be 'None' or an empty list of strings\n",
    "  > - followUpType : To show followup data in the form of url or data. By default, it set to 'data'. Can give `url`\n",
    "  > - thumbnailURL : To see the data. By default, it set to empty string\n",
    "  > - explorerURL :  To see the data. By default, it set to empty string\n",
    "  > - businessArea: To show the data to particular group. By default, it set to empty string\n",
    "  > - chartType : To see the data in the given format. By default, it set to empty string. example `pie`\n",
    "  \n",
    "- updateinsight => This function updates insights for the given dataset\n",
    "  > - domain : The name of the domain. Cannot be `None` or an empty string. By default it set to Sales\n",
    "  > - insightName : The unique name of the insight. Cannot be `None` or an empty string\n",
    "  > - insightId : The unique id of the insight. Cannot be `None` or an empty string\n",
    "  > - data : insight need to be alerted . If no data given, the insight will not be created\n",
    "  > - order : To show the insight in the given order. Zero is not allowed. By default it set to 1\n",
    "  > - followupQuestion : To show the insight followup. If no data given follow up will not be shown\n",
    "  > - roles : To show the insight to the particular role. Need to add list of role ids. Cannot be 'None' or an empty list of strings\n",
    "  > - groups : To show the insight to the particular group. Need to add list of group ids. Cannot be `None` or an empty list of strings\n",
    "  > - followUpType : To show followup data in the form of url or data. By default, it set to 'data'. Can give `url`\n",
    "  > - thumbnailURL : To see the data. By default, it set to empty string\n",
    "  > - explorerURL :  To see the data. By default, it set to empty string\n",
    "  > - businessArea : To show the data to particular group. By default, it set to empty string\n",
    "  > - chartType : To see the data in the given format. By default, it set to empty string. example `pie`\n",
    "  \n",
    "- deleteInsight => This function deletes insights for the given dataset\n",
    "  > - insightName : The unique name of the insight to be deleted. Cannot be `None` or an empty string\n",
    "\n",
    "- getInsights => This function used to get all the insights for the given dataset\n",
    "- getInsightsAsJson => This function used to get all the insights in the form of json for the given dataset\n",
    "- getInsightsAndComponents => This function used to get all the insights and its components (security access) for the given dataset\n",
    "- getInsightsAndComponentsAsJson => This function used to get all the insights and its components (security access) in the form of json for the given dataset"
   ]
  },
  {
   "cell_type": "code",
   "execution_count": 19,
   "id": "ebfb9340-23a0-47ec-bac6-80a61ce83892",
   "metadata": {},
   "outputs": [
    {
     "data": {
      "text/html": [
       "<table> <thead> <tr> <th>S.No</th> <th style='text-align:center'> insight Name </th> <th style='text-align:center'> Data Text </th> <th style='text-align:center'> Insight Id </th> <th style='text-align:center'> Followup Question </th> <th style='text-align:center'> Roles </th> <th style='text-align:center'> Groups </th> <th style='text-align:center'> Updated Time </th></tr> </thead> <tbody> <tr style='word-wrap: break-word'> <td style='text-align:center; word-wrap: break-word'> 1 </td> <td style='text-align:center; word-wrap: break-word'>  </td> <td style='text-align:center; word-wrap: break-word'>  </td> <td style='text-align:center; word-wrap: break-word'> a252139d-7a24-4e8e-a3ae-38bc087c75a5 </td> <td style='text-align:left; word-break:break-all'> Number_of_kids, prospect job </td> <td style='text-align:left; word-wrap: break-word'> ['*'] </td> <td style='text-align:left; word-wrap: break-word'> ['*'] </td> <td style='text-align:left; word-wrap: break-word'> 2023-11-30 11:09:14+00:00 </td> </tr> </tbody> </table>"
      ],
      "text/plain": [
       "<IPython.core.display.HTML object>"
      ]
     },
     "metadata": {},
     "output_type": "display_data"
    }
   ],
   "source": [
    "proinsight.getInsights()"
   ]
  },
  {
   "cell_type": "code",
   "execution_count": 20,
   "id": "368915b1-5110-4902-a8b1-bf699b7452d2",
   "metadata": {},
   "outputs": [
    {
     "data": {
      "text/html": [
       "<table> <thead> <tr> <th>S.No</th> <th style='text-align:center'> insight Name </th> <th style='text-align:center'> Data Text </th> <th style='text-align:center'> Insight Id </th> <th style='text-align:center'> Followup Question </th> <th style='text-align:center'> Roles </th> <th style='text-align:center'> Groups </th></tr> <th style='text-align:center'> Updated Time </th></tr> </thead> <tbody> <tr style='word-wrap: break-word'> <td style='text-align:center; word-wrap: break-word'> 1 </td> <td style='text-align:center; word-wrap: break-word'>  </td> <td style='text-align:center; word-wrap: break-word'>  </td> <td style='text-align:center; word-wrap: break-word'> a252139d-7a24-4e8e-a3ae-38bc087c75a5 </td> <td style='text-align:left; word-break:break-all'> Number_of_kids, prospect job </td> <td style='text-align:left; word-wrap: break-word'> ['*'] </td> <td style='text-align:left; word-wrap: break-word'> ['*'] </td> </tr> </tbody> </table>"
      ],
      "text/plain": [
       "<IPython.core.display.HTML object>"
      ]
     },
     "metadata": {},
     "output_type": "display_data"
    },
    {
     "data": {
      "text/plain": [
       "{}"
      ]
     },
     "execution_count": 20,
     "metadata": {},
     "output_type": "execute_result"
    }
   ],
   "source": [
    "proinsight.getInsightsAndComponents()"
   ]
  },
  {
   "cell_type": "code",
   "execution_count": 21,
   "id": "f084abec-a09e-4a0b-b137-8991f9ea7bfc",
   "metadata": {},
   "outputs": [],
   "source": [
    "insight_data = proinsight.getInsightsAsJson()"
   ]
  },
  {
   "cell_type": "code",
   "execution_count": 22,
   "id": "76136bf8-e6b0-4271-9cca-89f62f29fb47",
   "metadata": {},
   "outputs": [
    {
     "data": {
      "text/plain": [
       "[{'isProActive': False,\n",
       "  'insightName': '',\n",
       "  '_key': 'a252139d-7a24-4e8e-a3ae-38bc087c75a5',\n",
       "  'answer': '',\n",
       "  'dataSetID': '64b50875-qsF_OBj4i',\n",
       "  'domainName': 'Test',\n",
       "  'businessArea': '',\n",
       "  'chartType': '',\n",
       "  'id': 'a252139d-7a24-4e8e-a3ae-38bc087c75a5',\n",
       "  'inference': '@number_of_kids > 0',\n",
       "  'inferenceQuery': '`label_Prospect.number_of_kids` > 0',\n",
       "  'inferenceType': '',\n",
       "  'inferencePipeline': None,\n",
       "  'question': 'Number_of_kids',\n",
       "  'sqlForm': 'SELECT round(sum(coalesce(subquery.\"label_Prospect.number_of_kids\", 0)), 2) AS \"label_Prospect.number_of_kids\" \\nFROM (SELECT round(sum(coalesce(@Prospect.number_of_kids, 0)), 4) AS \"label_Prospect.number_of_kids\" \\nFROM (#)Prospect) AS subquery',\n",
       "  'template': '@number_of_kids  Kids we have insured',\n",
       "  'advancedTemplate': '',\n",
       "  'createdAt': '2023-11-30T11:09:14Z',\n",
       "  'updatedAt': '2023-11-30T11:09:14Z',\n",
       "  'createdBy': 'ddabaa6d-9bc8-4aa5-9049-a437772e574b',\n",
       "  'updatedBy': 'ddabaa6d-9bc8-4aa5-9049-a437772e574b',\n",
       "  'roles': ['*'],\n",
       "  'groups': ['*'],\n",
       "  'category': ['web', 'mobile', 'controlTower'],\n",
       "  'metaData': {'number_of_kids': {'additional_data': {'default_size': 4,\n",
       "     'is_update': False,\n",
       "     'precision': 4,\n",
       "     'unknown_flags': ['1.0', '2.0']},\n",
       "    'alias': 'number_of_kids',\n",
       "    'category': 'metrics',\n",
       "    'column_name': 'Prospect.number_of_kids',\n",
       "    'data_type': '',\n",
       "    'id': 'number_of_kids',\n",
       "    'synonym': 'number_of_kids',\n",
       "    'table': 'Prospect',\n",
       "    'type': 'Quantity',\n",
       "    'unit': ''}},\n",
       "  'followup': {'type': '',\n",
       "   'chartType': '',\n",
       "   'thumbnailURL': '',\n",
       "   'explorerURL': '',\n",
       "   'question': 'Number_of_kids, prospect job',\n",
       "   'displayUtterance': '',\n",
       "   'sqlForm': 'SELECT round(sum(coalesce(@Prospect.number_of_kids, 0)), 4) AS \"label_Prospect.number_of_kids\", @Prospect.job AS \"label_Prospect.job\" \\nFROM (#)Prospect GROUP BY @Prospect.job ORDER BY \"label_Prospect.number_of_kids\" DESC, \"label_Prospect.number_of_kids\" DESC',\n",
       "   'executedQuery': '',\n",
       "   'resolvedQuery': '',\n",
       "   'metaData': {'number_of_kids': {'additional_data': {'default_size': 4,\n",
       "      'is_update': False,\n",
       "      'precision': 4,\n",
       "      'unknown_flags': ['1.0', '2.0']},\n",
       "     'alias': 'number_of_kids',\n",
       "     'category': 'metrics',\n",
       "     'column_name': 'Prospect.number_of_kids',\n",
       "     'data_type': '',\n",
       "     'id': 'number_of_kids',\n",
       "     'synonym': 'number_of_kids',\n",
       "     'table': 'Prospect',\n",
       "     'type': 'Quantity',\n",
       "     'unit': ''},\n",
       "    'prospect job': {'additional_data': {'is_update': False, 'max_length': 15},\n",
       "     'alias': 'prospect job',\n",
       "     'category': 'dimensions',\n",
       "     'column_name': 'Prospect.job',\n",
       "     'data_type': '',\n",
       "     'id': 'job',\n",
       "     'synonym': 'prospect job',\n",
       "     'table': 'Prospect',\n",
       "     'type': '',\n",
       "     'unit': ''}},\n",
       "   'createdAt': '',\n",
       "   'updatedAt': '',\n",
       "   'aCode': 0,\n",
       "   'dataBool': False,\n",
       "   'sqlBool': False},\n",
       "  'orgID': 'c46692c5-ec5f-4a9d-8d4d-c93afb24dc86',\n",
       "  'status': '',\n",
       "  'order': 1,\n",
       "  'components': None}]"
      ]
     },
     "execution_count": 22,
     "metadata": {},
     "output_type": "execute_result"
    }
   ],
   "source": [
    "insight_data"
   ]
  },
  {
   "cell_type": "code",
   "execution_count": 23,
   "id": "96e497e9-ef31-49f7-93c7-b5472bbdcfa2",
   "metadata": {},
   "outputs": [],
   "source": [
    "insight_component_data_json = proinsight.getInsightsAndComponentsAsJson()"
   ]
  },
  {
   "cell_type": "code",
   "execution_count": 24,
   "id": "97f11fe6-347d-46b4-bfe7-92a538ec2c77",
   "metadata": {},
   "outputs": [
    {
     "data": {
      "text/plain": [
       "[{'isProActive': False,\n",
       "  'insightName': '',\n",
       "  '_key': 'a252139d-7a24-4e8e-a3ae-38bc087c75a5',\n",
       "  'answer': '',\n",
       "  'dataSetID': '64b50875-qsF_OBj4i',\n",
       "  'domainName': 'Test',\n",
       "  'businessArea': '',\n",
       "  'chartType': '',\n",
       "  'id': 'a252139d-7a24-4e8e-a3ae-38bc087c75a5',\n",
       "  'inference': '@number_of_kids > 0',\n",
       "  'inferenceQuery': '`label_Prospect.number_of_kids` > 0',\n",
       "  'inferenceType': '',\n",
       "  'inferencePipeline': None,\n",
       "  'question': 'Number_of_kids',\n",
       "  'sqlForm': 'SELECT round(sum(coalesce(subquery.\"label_Prospect.number_of_kids\", 0)), 2) AS \"label_Prospect.number_of_kids\" \\nFROM (SELECT round(sum(coalesce(@Prospect.number_of_kids, 0)), 4) AS \"label_Prospect.number_of_kids\" \\nFROM (#)Prospect) AS subquery',\n",
       "  'template': '@number_of_kids  Kids we have insured',\n",
       "  'advancedTemplate': '',\n",
       "  'createdAt': '2023-11-30T11:09:14Z',\n",
       "  'updatedAt': '2023-11-30T11:09:14Z',\n",
       "  'createdBy': 'ddabaa6d-9bc8-4aa5-9049-a437772e574b',\n",
       "  'updatedBy': 'ddabaa6d-9bc8-4aa5-9049-a437772e574b',\n",
       "  'roles': ['*'],\n",
       "  'groups': ['*'],\n",
       "  'category': ['web', 'mobile', 'controlTower'],\n",
       "  'metaData': {'number_of_kids': {'additional_data': {'default_size': 4,\n",
       "     'is_update': False,\n",
       "     'precision': 4,\n",
       "     'unknown_flags': ['1.0', '2.0']},\n",
       "    'alias': 'number_of_kids',\n",
       "    'category': 'metrics',\n",
       "    'column_name': 'Prospect.number_of_kids',\n",
       "    'data_type': '',\n",
       "    'id': 'number_of_kids',\n",
       "    'synonym': 'number_of_kids',\n",
       "    'table': 'Prospect',\n",
       "    'type': 'Quantity',\n",
       "    'unit': ''}},\n",
       "  'followup': {'type': '',\n",
       "   'chartType': '',\n",
       "   'thumbnailURL': '',\n",
       "   'explorerURL': '',\n",
       "   'question': 'Number_of_kids, prospect job',\n",
       "   'displayUtterance': '',\n",
       "   'sqlForm': 'SELECT round(sum(coalesce(@Prospect.number_of_kids, 0)), 4) AS \"label_Prospect.number_of_kids\", @Prospect.job AS \"label_Prospect.job\" \\nFROM (#)Prospect GROUP BY @Prospect.job ORDER BY \"label_Prospect.number_of_kids\" DESC, \"label_Prospect.number_of_kids\" DESC',\n",
       "   'executedQuery': '',\n",
       "   'resolvedQuery': '',\n",
       "   'metaData': {'number_of_kids': {'additional_data': {'default_size': 4,\n",
       "      'is_update': False,\n",
       "      'precision': 4,\n",
       "      'unknown_flags': ['1.0', '2.0']},\n",
       "     'alias': 'number_of_kids',\n",
       "     'category': 'metrics',\n",
       "     'column_name': 'Prospect.number_of_kids',\n",
       "     'data_type': '',\n",
       "     'id': 'number_of_kids',\n",
       "     'synonym': 'number_of_kids',\n",
       "     'table': 'Prospect',\n",
       "     'type': 'Quantity',\n",
       "     'unit': ''},\n",
       "    'prospect job': {'additional_data': {'is_update': False, 'max_length': 15},\n",
       "     'alias': 'prospect job',\n",
       "     'category': 'dimensions',\n",
       "     'column_name': 'Prospect.job',\n",
       "     'data_type': '',\n",
       "     'id': 'job',\n",
       "     'synonym': 'prospect job',\n",
       "     'table': 'Prospect',\n",
       "     'type': '',\n",
       "     'unit': ''}},\n",
       "   'createdAt': '',\n",
       "   'updatedAt': '',\n",
       "   'aCode': 0,\n",
       "   'dataBool': False,\n",
       "   'sqlBool': False},\n",
       "  'orgID': 'c46692c5-ec5f-4a9d-8d4d-c93afb24dc86',\n",
       "  'status': '',\n",
       "  'order': 1,\n",
       "  'components': [{'aCode': 1,\n",
       "    'id': 'dd40349d38ce8ecb808476a3aac937ff',\n",
       "    'activated': True}]}]"
      ]
     },
     "execution_count": 24,
     "metadata": {},
     "output_type": "execute_result"
    }
   ],
   "source": [
    "insight_component_data_json"
   ]
  },
  {
   "cell_type": "code",
   "execution_count": 26,
   "id": "b1197b57-9698-4191-a55f-c05155971c5d",
   "metadata": {},
   "outputs": [
    {
     "name": "stdout",
     "output_type": "stream",
     "text": [
      "\u001b[0;32m[2023-11-30 13:25:47,462] [DEBUG] insight already created ====> False\u001b[0m\n",
      "\u001b[0;32m[2023-11-30 13:25:47,463] [DEBUG] insight id ====> \u001b[0m\n",
      "\u001b[0;34m[2023-11-30 13:25:47,464] [INFO] ***** Creating proactive insight *****\u001b[0m\n",
      "\u001b[0;32m[2023-11-30 13:25:47,464] [DEBUG] Request to create =====> {dataSetID: 64b50875-qsF_OBj4i, domainName: Sales, insightName: Test_insights, inference: , question: , template: , roles: [*], groups: [*], answer: introduction to proactive insights, isAnalytics: True, businessArea: , chartType: pie, order: 1, followup: {question: Number_of_kids, prospect job, type: data, thumbnailURL: , explorerURL: }, category: [web, mobile, controlTower]}\u001b[0m\n",
      "\u001b[0;34m[2023-11-30 13:25:49,551] [INFO] proactive insight created successfully !!\u001b[0m\n"
     ]
    },
    {
     "data": {
      "text/plain": [
       "{'status': 'success', 'message': 'proactive insight created successfully'}"
      ]
     },
     "execution_count": 26,
     "metadata": {},
     "output_type": "execute_result"
    }
   ],
   "source": [
    "proinsight.createInsight(domain=\"Sales\",insightName=\"Test_insights\",data=\"introduction to proactive insights\",order=1,followupQuestion=\"Number_of_kids, prospect job\",roles=[\"*\"], chartType=\"pie\")"
   ]
  },
  {
   "cell_type": "code",
   "execution_count": 27,
   "id": "d056b8c7-f7e9-40bb-9559-0730a6419f99",
   "metadata": {},
   "outputs": [
    {
     "data": {
      "text/html": [
       "<table> <thead> <tr> <th>S.No</th> <th style='text-align:center'> insight Name </th> <th style='text-align:center'> Data Text </th> <th style='text-align:center'> Insight Id </th> <th style='text-align:center'> Followup Question </th> <th style='text-align:center'> Roles </th> <th style='text-align:center'> Groups </th> <th style='text-align:center'> Updated Time </th></tr> </thead> <tbody> <tr style='word-wrap: break-word'> <td style='text-align:center; word-wrap: break-word'> 1 </td> <td style='text-align:center; word-wrap: break-word'>  </td> <td style='text-align:center; word-wrap: break-word'>  </td> <td style='text-align:center; word-wrap: break-word'> a252139d-7a24-4e8e-a3ae-38bc087c75a5 </td> <td style='text-align:left; word-break:break-all'> Number_of_kids, prospect job </td> <td style='text-align:left; word-wrap: break-word'> ['*'] </td> <td style='text-align:left; word-wrap: break-word'> ['*'] </td> <td style='text-align:left; word-wrap: break-word'> 2023-11-30 11:09:14+00:00 </td> </tr><tr style='word-wrap: break-word'> <td style='text-align:center; word-wrap: break-word'> 2 </td> <td style='text-align:center; word-wrap: break-word'> Test_insights </td> <td style='text-align:center; word-wrap: break-word'> introduction to proactive insights </td> <td style='text-align:center; word-wrap: break-word'> bac3df26-2880-4183-953b-9e2ae133015c </td> <td style='text-align:left; word-break:break-all'> Number_of_kids, prospect job </td> <td style='text-align:left; word-wrap: break-word'> ['*'] </td> <td style='text-align:left; word-wrap: break-word'> ['*'] </td> <td style='text-align:left; word-wrap: break-word'> 2023-11-30 13:25:47+00:00 </td> </tr> </tbody> </table>"
      ],
      "text/plain": [
       "<IPython.core.display.HTML object>"
      ]
     },
     "metadata": {},
     "output_type": "display_data"
    }
   ],
   "source": [
    "proinsight.getInsights()"
   ]
  },
  {
   "cell_type": "code",
   "execution_count": 30,
   "id": "adcd6139-0c24-4c62-9c8e-ea0069c12578",
   "metadata": {},
   "outputs": [
    {
     "name": "stdout",
     "output_type": "stream",
     "text": [
      "\u001b[0;34m[2023-11-30 13:28:44,912] [INFO] ***** updating proactive insight *****\u001b[0m\n",
      "\u001b[0;32m[2023-11-30 13:28:44,913] [DEBUG] Request to update =====> {dataSetID: 64b50875-qsF_OBj4i, domainName: Sales, insightName: Test_insights, inference: , id: bac3df26-2880-4183-953b-9e2ae133015c, question: , template: , roles: [*], groups: [*], answer: update - introduction to proactive insights, isAnalytics: True, businessArea: , chartType: , order: 1, followup: {question: Number_of_kids, prospect job, type: data, thumbnailURL: , explorerURL: }, category: [web, mobile, controlTower]}\u001b[0m\n",
      "\u001b[0;34m[2023-11-30 13:28:44,986] [INFO] proactive insight updated successfully !!\u001b[0m\n"
     ]
    },
    {
     "data": {
      "text/plain": [
       "{'status': 'success', 'message': 'proactive insight updated successfully'}"
      ]
     },
     "execution_count": 30,
     "metadata": {},
     "output_type": "execute_result"
    }
   ],
   "source": [
    "proinsight.updateInsight(domain=\"Sales\",insightName=\"Test_insights\",insightId=\"bac3df26-2880-4183-953b-9e2ae133015c\",data=\"update - introduction to proactive insights\",order=1,followupQuestion=\"Number_of_kids, prospect job\",roles=[\"*\"], chartType=\"\")"
   ]
  },
  {
   "cell_type": "code",
   "execution_count": 31,
   "id": "22c7a71d-81e8-4700-923f-a0d3736aa60f",
   "metadata": {},
   "outputs": [
    {
     "data": {
      "text/html": [
       "<table> <thead> <tr> <th>S.No</th> <th style='text-align:center'> insight Name </th> <th style='text-align:center'> Data Text </th> <th style='text-align:center'> Insight Id </th> <th style='text-align:center'> Followup Question </th> <th style='text-align:center'> Roles </th> <th style='text-align:center'> Groups </th> <th style='text-align:center'> Updated Time </th></tr> </thead> <tbody> <tr style='word-wrap: break-word'> <td style='text-align:center; word-wrap: break-word'> 1 </td> <td style='text-align:center; word-wrap: break-word'>  </td> <td style='text-align:center; word-wrap: break-word'>  </td> <td style='text-align:center; word-wrap: break-word'> a252139d-7a24-4e8e-a3ae-38bc087c75a5 </td> <td style='text-align:left; word-break:break-all'> Number_of_kids, prospect job </td> <td style='text-align:left; word-wrap: break-word'> ['*'] </td> <td style='text-align:left; word-wrap: break-word'> ['*'] </td> <td style='text-align:left; word-wrap: break-word'> 2023-11-30 11:09:14+00:00 </td> </tr><tr style='word-wrap: break-word'> <td style='text-align:center; word-wrap: break-word'> 2 </td> <td style='text-align:center; word-wrap: break-word'> Test_insights </td> <td style='text-align:center; word-wrap: break-word'> update - introduction to proactive insights </td> <td style='text-align:center; word-wrap: break-word'> bac3df26-2880-4183-953b-9e2ae133015c </td> <td style='text-align:left; word-break:break-all'> Number_of_kids, prospect job </td> <td style='text-align:left; word-wrap: break-word'> ['*'] </td> <td style='text-align:left; word-wrap: break-word'> ['*'] </td> <td style='text-align:left; word-wrap: break-word'> 2023-11-30 13:28:44+00:00 </td> </tr> </tbody> </table>"
      ],
      "text/plain": [
       "<IPython.core.display.HTML object>"
      ]
     },
     "metadata": {},
     "output_type": "display_data"
    }
   ],
   "source": [
    "proinsight.getInsights()"
   ]
  },
  {
   "cell_type": "code",
   "execution_count": 32,
   "id": "1523376e-745f-46f4-8099-240593cc6303",
   "metadata": {},
   "outputs": [
    {
     "name": "stdout",
     "output_type": "stream",
     "text": [
      "\u001b[0;32m[2023-11-30 13:29:54,686] [DEBUG] insight already created ====> False\u001b[0m\n",
      "\u001b[0;32m[2023-11-30 13:29:54,687] [DEBUG] insight id ====> \u001b[0m\n",
      "\u001b[0;34m[2023-11-30 13:29:54,687] [INFO] ***** Creating proactive insight *****\u001b[0m\n",
      "\u001b[0;32m[2023-11-30 13:29:54,688] [DEBUG] Request to create =====> {dataSetID: 64b50875-qsF_OBj4i, domainName: Sales, insightName: delete_insights, inference: , question: , template: , roles: [*], groups: [*], answer: introduction to proactive insights, isAnalytics: True, businessArea: , chartType: pie, order: 1, followup: {question: Number_of_kids, prospect job, type: data, thumbnailURL: , explorerURL: }, category: [web, mobile, controlTower]}\u001b[0m\n",
      "\u001b[0;34m[2023-11-30 13:29:56,803] [INFO] proactive insight created successfully !!\u001b[0m\n"
     ]
    },
    {
     "data": {
      "text/plain": [
       "{'status': 'success', 'message': 'proactive insight created successfully'}"
      ]
     },
     "execution_count": 32,
     "metadata": {},
     "output_type": "execute_result"
    }
   ],
   "source": [
    "proinsight.createInsight(domain=\"Sales\",insightName=\"delete_insights\",data=\"introduction to proactive insights\",order=1,followupQuestion=\"Number_of_kids, prospect job\",roles=[\"*\"], chartType=\"pie\")"
   ]
  },
  {
   "cell_type": "code",
   "execution_count": 33,
   "id": "0ea42418-a75d-45da-8f9c-36fa1848061d",
   "metadata": {},
   "outputs": [
    {
     "data": {
      "text/html": [
       "<table> <thead> <tr> <th>S.No</th> <th style='text-align:center'> insight Name </th> <th style='text-align:center'> Data Text </th> <th style='text-align:center'> Insight Id </th> <th style='text-align:center'> Followup Question </th> <th style='text-align:center'> Roles </th> <th style='text-align:center'> Groups </th> <th style='text-align:center'> Updated Time </th></tr> </thead> <tbody> <tr style='word-wrap: break-word'> <td style='text-align:center; word-wrap: break-word'> 1 </td> <td style='text-align:center; word-wrap: break-word'>  </td> <td style='text-align:center; word-wrap: break-word'>  </td> <td style='text-align:center; word-wrap: break-word'> a252139d-7a24-4e8e-a3ae-38bc087c75a5 </td> <td style='text-align:left; word-break:break-all'> Number_of_kids, prospect job </td> <td style='text-align:left; word-wrap: break-word'> ['*'] </td> <td style='text-align:left; word-wrap: break-word'> ['*'] </td> <td style='text-align:left; word-wrap: break-word'> 2023-11-30 11:09:14+00:00 </td> </tr><tr style='word-wrap: break-word'> <td style='text-align:center; word-wrap: break-word'> 2 </td> <td style='text-align:center; word-wrap: break-word'> Test_insights </td> <td style='text-align:center; word-wrap: break-word'> update - introduction to proactive insights </td> <td style='text-align:center; word-wrap: break-word'> bac3df26-2880-4183-953b-9e2ae133015c </td> <td style='text-align:left; word-break:break-all'> Number_of_kids, prospect job </td> <td style='text-align:left; word-wrap: break-word'> ['*'] </td> <td style='text-align:left; word-wrap: break-word'> ['*'] </td> <td style='text-align:left; word-wrap: break-word'> 2023-11-30 13:28:44+00:00 </td> </tr><tr style='word-wrap: break-word'> <td style='text-align:center; word-wrap: break-word'> 3 </td> <td style='text-align:center; word-wrap: break-word'> delete_insights </td> <td style='text-align:center; word-wrap: break-word'> introduction to proactive insights </td> <td style='text-align:center; word-wrap: break-word'> cae166a2-d15f-4c36-a770-d73465c671fd </td> <td style='text-align:left; word-break:break-all'> Number_of_kids, prospect job </td> <td style='text-align:left; word-wrap: break-word'> ['*'] </td> <td style='text-align:left; word-wrap: break-word'> ['*'] </td> <td style='text-align:left; word-wrap: break-word'> 2023-11-30 13:29:54+00:00 </td> </tr> </tbody> </table>"
      ],
      "text/plain": [
       "<IPython.core.display.HTML object>"
      ]
     },
     "metadata": {},
     "output_type": "display_data"
    }
   ],
   "source": [
    "proinsight.getInsights()"
   ]
  },
  {
   "cell_type": "code",
   "execution_count": 34,
   "id": "62bfeccd-2a58-4cff-99d2-0a3a33ec6dfb",
   "metadata": {},
   "outputs": [
    {
     "name": "stdout",
     "output_type": "stream",
     "text": [
      "\u001b[0;34m[2023-11-30 13:31:00,924] [INFO] ***** deleting proactive insight *****\u001b[0m\n",
      "\u001b[0;32m[2023-11-30 13:31:00,925] [DEBUG] Request to delete =====> {proActiveInsightIDs: [cae166a2-d15f-4c36-a770-d73465c671fd]}\u001b[0m\n",
      "\u001b[0;34m[2023-11-30 13:31:00,991] [INFO] proactive insight deleted successfully !!\u001b[0m\n"
     ]
    },
    {
     "data": {
      "text/plain": [
       "{'status': 'success', 'message': 'proactive insight deleted successfully'}"
      ]
     },
     "execution_count": 34,
     "metadata": {},
     "output_type": "execute_result"
    }
   ],
   "source": [
    "proinsight.deleteInsight(insightName=\"delete_insights\")"
   ]
  },
  {
   "cell_type": "code",
   "execution_count": 35,
   "id": "b4fd352e-3d92-4405-955b-8ed0a526a52b",
   "metadata": {},
   "outputs": [
    {
     "data": {
      "text/html": [
       "<table> <thead> <tr> <th>S.No</th> <th style='text-align:center'> insight Name </th> <th style='text-align:center'> Data Text </th> <th style='text-align:center'> Insight Id </th> <th style='text-align:center'> Followup Question </th> <th style='text-align:center'> Roles </th> <th style='text-align:center'> Groups </th> <th style='text-align:center'> Updated Time </th></tr> </thead> <tbody> <tr style='word-wrap: break-word'> <td style='text-align:center; word-wrap: break-word'> 1 </td> <td style='text-align:center; word-wrap: break-word'>  </td> <td style='text-align:center; word-wrap: break-word'>  </td> <td style='text-align:center; word-wrap: break-word'> a252139d-7a24-4e8e-a3ae-38bc087c75a5 </td> <td style='text-align:left; word-break:break-all'> Number_of_kids, prospect job </td> <td style='text-align:left; word-wrap: break-word'> ['*'] </td> <td style='text-align:left; word-wrap: break-word'> ['*'] </td> <td style='text-align:left; word-wrap: break-word'> 2023-11-30 11:09:14+00:00 </td> </tr><tr style='word-wrap: break-word'> <td style='text-align:center; word-wrap: break-word'> 2 </td> <td style='text-align:center; word-wrap: break-word'> Test_insights </td> <td style='text-align:center; word-wrap: break-word'> update - introduction to proactive insights </td> <td style='text-align:center; word-wrap: break-word'> bac3df26-2880-4183-953b-9e2ae133015c </td> <td style='text-align:left; word-break:break-all'> Number_of_kids, prospect job </td> <td style='text-align:left; word-wrap: break-word'> ['*'] </td> <td style='text-align:left; word-wrap: break-word'> ['*'] </td> <td style='text-align:left; word-wrap: break-word'> 2023-11-30 13:28:44+00:00 </td> </tr> </tbody> </table>"
      ],
      "text/plain": [
       "<IPython.core.display.HTML object>"
      ]
     },
     "metadata": {},
     "output_type": "display_data"
    }
   ],
   "source": [
    "proinsight.getInsights()"
   ]
  },
  {
   "cell_type": "code",
   "execution_count": null,
   "id": "18df3609-6eb1-44da-b89c-2fbef1bde1da",
   "metadata": {},
   "outputs": [],
   "source": []
  }
 ],
 "metadata": {
  "kernelspec": {
   "display_name": "Python 3 (ipykernel)",
   "language": "python",
   "name": "python3"
  },
  "language_info": {
   "codemirror_mode": {
    "name": "ipython",
    "version": 3
   },
   "file_extension": ".py",
   "mimetype": "text/x-python",
   "name": "python",
   "nbconvert_exporter": "python",
   "pygments_lexer": "ipython3",
   "version": "3.9.10"
  }
 },
 "nbformat": 4,
 "nbformat_minor": 5
}
