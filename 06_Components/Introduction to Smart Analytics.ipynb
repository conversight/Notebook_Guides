{
 "cells": [
  {
   "cell_type": "markdown",
   "id": "1069720d-02ea-44c9-9531-27e62d7e76e7",
   "metadata": {},
   "source": [
    "# Introduction to Smart Analytics"
   ]
  },
  {
   "cell_type": "markdown",
   "id": "964167d6-54ac-482a-b816-315304f8cb87",
   "metadata": {},
   "source": [
    "Smart Analytics is a transformative capability that empowers users to generate tables from existing datasets or external databases, enabling a multitude of analytics operations. By Smart Analytics, users gain the flexibility to create and publish datasets while simultaneously creating, updating, or overwriting tables using Smart Analytics queries. This concurrent process enhances the efficiency of data management, ensuring that the most up-to-date information is readily available for analysis and reporting purposes."
   ]
  },
  {
   "cell_type": "markdown",
   "id": "e1daea23-f6c8-43d0-97a4-4e2a2e13811a",
   "metadata": {},
   "source": [
    "Let's import the Smart Analytics from conversight library"
   ]
  },
  {
   "cell_type": "code",
   "execution_count": 1,
   "id": "d078e2f2-b007-4982-a8d1-64676234f6dc",
   "metadata": {},
   "outputs": [],
   "source": [
    "from conversight import SmartAnalytics"
   ]
  },
  {
   "cell_type": "markdown",
   "id": "ef4345f8-759b-4a52-a889-50537e804a9f",
   "metadata": {},
   "source": [
    "The SmartAnalytics module takes the following essential arguments\n",
    "| Arguments     | Description |\n",
    "| :------------ | :----------- |\n",
    "| dataSetId | The id of the dataset to be accessed|\n",
    "| name | Name of the smart analytics to be created on the dataset\n",
    "| token | Token of user logged in. Its an optional argument. If no token provided by default user logged in token will be taken |"
   ]
  },
  {
   "cell_type": "code",
   "execution_count": 21,
   "id": "22771b36-408b-4107-b305-faac520db99c",
   "metadata": {},
   "outputs": [],
   "source": [
    "dataset_id = \"655ceb56-HrXES9SSm\""
   ]
  },
  {
   "cell_type": "markdown",
   "id": "e2582c5b-6898-4da0-982c-6268be672dc6",
   "metadata": {},
   "source": [
    "You can get the dataset id by navigating to the side menu in the UI `Data Workbench -> Data Management` and click the dataset. In the browser address bar you can see the dataset id at the very end of the URL"
   ]
  },
  {
   "cell_type": "code",
   "execution_count": 2,
   "id": "34b1991f-b398-41f8-8963-55e7e6642013",
   "metadata": {},
   "outputs": [],
   "source": [
    "sma = SmartAnalytics(dataSetId=dataset_id)"
   ]
  },
  {
   "cell_type": "markdown",
   "id": "1dccbad7-33c6-4b78-ac36-8541a6d56f10",
   "metadata": {},
   "source": [
    "Now that the smart analytics module has been initiated let's see the most user accessed features\n",
    "- create => This method creates the smart analytics on the given dataset id\n",
    "  > - name: The name of the smart analytics to be created\n",
    "  > - dataFrame: Data required to create the smart analytics\n",
    "  > - isArrow: It's the boolean flag to set the data in arrow format instead of data frame. By default, it's set to False\n",
    "  > - isOverwrite: This will truncates the old data and load the new data. By default, it set to True\n",
    "  > - isDataPublish: This will publish the loaded table. If it is False external publish needed. By default, it's set to True\n",
    "  > - token: It's and optional argument to override the token\n",
    "- get => This method is used to get all the smart analytics and their attributes created on the dataset\n",
    "  > - token: It's and optional argument to override the token  \n",
    "- publishData => This method does the SME publish from notebook\n",
    "  > - query: the version of the flow to be set as current version.\n",
    "- publishDataset => This method publishes the smart analytics created and hen do SME publish\n",
    "  > - action: Two actions, `create & update`. create -> publish the created tables, update -> update dictionary for the given tables. By default it is set to `update`\n",
    "  > - objectList: List of objects to be created or updated\n",
    "  > - token: It's and optional argument to override the token\n",
    "- delete => This method accepts the most common standard sql query and return the data in arrow format\n",
    "  > - name: The name of the smart analytics table to be deleted\n",
    "  > - isDataPublish: It's the boolean flag to remove the smart analytics from the dataset. By default it's set to True"
   ]
  },
  {
   "cell_type": "markdown",
   "id": "1bc11995-5f63-42b5-bcbe-2ee0a18df8cd",
   "metadata": {},
   "source": [
    "In-order to create a smart analytics, let's get some data by importing the `Dataset` module from csSDK"
   ]
  },
  {
   "cell_type": "code",
   "execution_count": 16,
   "id": "3112201c-5c58-4cba-bc87-4c9434eec28c",
   "metadata": {},
   "outputs": [],
   "source": [
    "from csSDK import Dataset"
   ]
  },
  {
   "cell_type": "code",
   "execution_count": 22,
   "id": "d3c16fdc-19c9-4e94-9823-5ef1d1d6038a",
   "metadata": {},
   "outputs": [
    {
     "name": "stdout",
     "output_type": "stream",
     "text": [
      "Retail Sales loaded successfully\n"
     ]
    }
   ],
   "source": [
    "ds = Dataset(dataset_id=dataset_id)  # dataset_id declared above cell"
   ]
  },
  {
   "cell_type": "markdown",
   "id": "af5b212c-d322-4f1c-b0bd-b5e143de1bae",
   "metadata": {},
   "source": [
    "Below is the simple conversight query that selects the `revenue, delivery date and buyer` from `retail sales` dataset"
   ]
  },
  {
   "cell_type": "code",
   "execution_count": 31,
   "id": "64a654a6-0b02-4047-a9a2-84d7f4f4e3f9",
   "metadata": {},
   "outputs": [],
   "source": [
    "conversight_query = \"\"\"Select @RetailSales.revenue as newcost, @RetailSales.delivery_date, @RetailSales.buyer from #RetailSales\"\"\""
   ]
  },
  {
   "cell_type": "code",
   "execution_count": 32,
   "id": "c8a7d844-43e4-410e-a011-bcb5efc590d9",
   "metadata": {},
   "outputs": [],
   "source": [
    "df = ds.sql_dataframe(query=conversight_query)"
   ]
  },
  {
   "cell_type": "code",
   "execution_count": 33,
   "id": "431e4c7b-d246-4781-954b-26a56f5eddb9",
   "metadata": {},
   "outputs": [
    {
     "data": {
      "text/html": [
       "<div>\n",
       "<style scoped>\n",
       "    .dataframe tbody tr th:only-of-type {\n",
       "        vertical-align: middle;\n",
       "    }\n",
       "\n",
       "    .dataframe tbody tr th {\n",
       "        vertical-align: top;\n",
       "    }\n",
       "\n",
       "    .dataframe thead th {\n",
       "        text-align: right;\n",
       "    }\n",
       "</style>\n",
       "<table border=\"1\" class=\"dataframe\">\n",
       "  <thead>\n",
       "    <tr style=\"text-align: right;\">\n",
       "      <th></th>\n",
       "      <th>newcost</th>\n",
       "      <th>m_delivery_date</th>\n",
       "      <th>m_buyer</th>\n",
       "    </tr>\n",
       "  </thead>\n",
       "  <tbody>\n",
       "    <tr>\n",
       "      <th>0</th>\n",
       "      <td>5980.000000</td>\n",
       "      <td>2016-01-09</td>\n",
       "      <td>Nass Torres</td>\n",
       "    </tr>\n",
       "    <tr>\n",
       "      <th>1</th>\n",
       "      <td>7211.259766</td>\n",
       "      <td>2016-01-11</td>\n",
       "      <td>Sascha Johnson</td>\n",
       "    </tr>\n",
       "    <tr>\n",
       "      <th>2</th>\n",
       "      <td>35999.601562</td>\n",
       "      <td>2016-01-12</td>\n",
       "      <td>Kim Rogers</td>\n",
       "    </tr>\n",
       "    <tr>\n",
       "      <th>3</th>\n",
       "      <td>19950.000000</td>\n",
       "      <td>2016-01-12</td>\n",
       "      <td>Kei Thompson</td>\n",
       "    </tr>\n",
       "    <tr>\n",
       "      <th>4</th>\n",
       "      <td>7980.000000</td>\n",
       "      <td>2016-01-11</td>\n",
       "      <td>Gabby Taylor</td>\n",
       "    </tr>\n",
       "    <tr>\n",
       "      <th>...</th>\n",
       "      <td>...</td>\n",
       "      <td>...</td>\n",
       "      <td>...</td>\n",
       "    </tr>\n",
       "    <tr>\n",
       "      <th>15797</th>\n",
       "      <td>35199.359375</td>\n",
       "      <td>2018-08-18</td>\n",
       "      <td>Mo Myers</td>\n",
       "    </tr>\n",
       "    <tr>\n",
       "      <th>15798</th>\n",
       "      <td>39767.000000</td>\n",
       "      <td>2018-08-15</td>\n",
       "      <td>Fran Sullivan</td>\n",
       "    </tr>\n",
       "    <tr>\n",
       "      <th>15799</th>\n",
       "      <td>11046.000000</td>\n",
       "      <td>2018-08-17</td>\n",
       "      <td>Izzi Jones</td>\n",
       "    </tr>\n",
       "    <tr>\n",
       "      <th>15800</th>\n",
       "      <td>65189.468750</td>\n",
       "      <td>2018-08-18</td>\n",
       "      <td>Nik Reyes</td>\n",
       "    </tr>\n",
       "    <tr>\n",
       "      <th>15801</th>\n",
       "      <td>23099.230469</td>\n",
       "      <td>2018-08-19</td>\n",
       "      <td>Izzi Taylor</td>\n",
       "    </tr>\n",
       "  </tbody>\n",
       "</table>\n",
       "<p>15802 rows × 3 columns</p>\n",
       "</div>"
      ],
      "text/plain": [
       "            newcost m_delivery_date         m_buyer\n",
       "0       5980.000000      2016-01-09     Nass Torres\n",
       "1       7211.259766      2016-01-11  Sascha Johnson\n",
       "2      35999.601562      2016-01-12      Kim Rogers\n",
       "3      19950.000000      2016-01-12    Kei Thompson\n",
       "4       7980.000000      2016-01-11    Gabby Taylor\n",
       "...             ...             ...             ...\n",
       "15797  35199.359375      2018-08-18        Mo Myers\n",
       "15798  39767.000000      2018-08-15   Fran Sullivan\n",
       "15799  11046.000000      2018-08-17      Izzi Jones\n",
       "15800  65189.468750      2018-08-18       Nik Reyes\n",
       "15801  23099.230469      2018-08-19     Izzi Taylor\n",
       "\n",
       "[15802 rows x 3 columns]"
      ]
     },
     "execution_count": 33,
     "metadata": {},
     "output_type": "execute_result"
    }
   ],
   "source": [
    "df"
   ]
  },
  {
   "cell_type": "markdown",
   "id": "ccb5e56e-fd79-4007-aa08-b6efc487ef50",
   "metadata": {},
   "source": [
    "Now that the data has been obtained let's create the smart analytics with desired options"
   ]
  },
  {
   "cell_type": "code",
   "execution_count": 34,
   "id": "f7f7316b-7904-4218-beb8-a22523cb03d7",
   "metadata": {},
   "outputs": [],
   "source": [
    "smart_analytics_name = \"Flow_Sales\"\n",
    "arrow = False\n",
    "overwrite = True\n",
    "publish = True"
   ]
  },
  {
   "cell_type": "code",
   "execution_count": 35,
   "id": "5235bbf4-b4d8-4ea4-a872-2b1f0d232128",
   "metadata": {},
   "outputs": [
    {
     "name": "stdout",
     "output_type": "stream",
     "text": [
      "\u001b[0;34m[2023-11-29 16:37:04,334] [INFO] Setting connection details\u001b[0m\n",
      "\u001b[0;34m[2023-11-29 16:37:05,006] [INFO] Table m_655cebb7_Flow_Sales already exist.\u001b[0m\n",
      "\u001b[0;34m[2023-11-29 16:37:05,313] [INFO] Table m_655cebb7_Flow_Sales already exist.\u001b[0m\n",
      "\u001b[0;34m[2023-11-29 16:37:05,332] [INFO] Loading table m_8edbd0b9802fd701256267551a59a9a7_Flow_Sales with data...\u001b[0m\n",
      "\u001b[0;34m[2023-11-29 16:37:05,469] [INFO] Data inserted successfully !!\u001b[0m\n",
      "\u001b[0;34m[2023-11-29 16:37:05,477] [INFO] Query executed successfully !!\u001b[0m\n",
      "\u001b[0;34m[2023-11-29 16:37:05,482] [INFO] Query executed successfully !!\u001b[0m\n",
      "\u001b[0;34m[2023-11-29 16:37:05,742] [INFO] Table m_655cebb7_Flow_Sales_backup already exist.\u001b[0m\n",
      "\u001b[0;34m[2023-11-29 16:37:05,742] [INFO] Deleting table m_655cebb7_Flow_Sales_backup ...\u001b[0m\n",
      "\u001b[0;34m[2023-11-29 16:37:05,753] [INFO] Query executed successfully !!\u001b[0m\n",
      "\u001b[0;34m[2023-11-29 16:37:05,753] [INFO] Request to hit createDict ====> [{dataset: 655ceb56-HrXES9SSm, filter: Smart Analytics, tables: [Flow_Sales]}]\u001b[0m\n"
     ]
    },
    {
     "data": {
      "text/plain": [
       "{'status': 'success', 'message': 'Smart analytics updated successfully !!'}"
      ]
     },
     "execution_count": 35,
     "metadata": {},
     "output_type": "execute_result"
    }
   ],
   "source": [
    "sma.create(smart_analytics_name, df, arrow, overwrite, publish)"
   ]
  },
  {
   "cell_type": "markdown",
   "id": "f47faf1c-2a4e-41bf-98c6-ab989d028f8a",
   "metadata": {},
   "source": [
    "Get the created smart analytics and explore additional features"
   ]
  },
  {
   "cell_type": "code",
   "execution_count": 36,
   "id": "0f6b003c-7bee-4dfc-a69d-99ed0fff863f",
   "metadata": {},
   "outputs": [
    {
     "name": "stdout",
     "output_type": "stream",
     "text": [
      "\u001b[0;34m[2023-11-29 16:40:34,644] [INFO] smart analytics loaded successfully for the dataset ====> [655ceb56-HrXES9SSm]\u001b[0m\n"
     ]
    }
   ],
   "source": [
    "total_sma = sma.get()"
   ]
  },
  {
   "cell_type": "code",
   "execution_count": 37,
   "id": "7be4d2f3-cedb-4ac6-b0fc-c7645290a889",
   "metadata": {},
   "outputs": [],
   "source": [
    "sales = total_sma[\"Flow_Sales\"]"
   ]
  },
  {
   "cell_type": "code",
   "execution_count": 45,
   "id": "13dfdf99-335c-4389-9620-964fd0f5f44b",
   "metadata": {},
   "outputs": [
    {
     "data": {
      "text/plain": [
       "['newcost', 'delivery_date', 'buyer']"
      ]
     },
     "execution_count": 45,
     "metadata": {},
     "output_type": "execute_result"
    }
   ],
   "source": [
    "sales.additional_data[\"aliasColumns\"]"
   ]
  },
  {
   "cell_type": "code",
   "execution_count": 46,
   "id": "23fc85f9-8784-49de-99d6-efedf13f4af6",
   "metadata": {},
   "outputs": [
    {
     "name": "stdout",
     "output_type": "stream",
     "text": [
      "\u001b[33;20m[2023-11-29 16:48:09,503] [WARNING] Dataset [655ceb56-HrXES9SSm] is not active, current status is: Active and refreshStatus: Active]\u001b[0m\n",
      "\u001b[0;34m[2023-11-29 16:48:10,368] [INFO] SME data published successfully !!\u001b[0m\n"
     ]
    },
    {
     "data": {
      "text/plain": [
       "{'status': 'success', 'message': 'Success'}"
      ]
     },
     "execution_count": 46,
     "metadata": {},
     "output_type": "execute_result"
    }
   ],
   "source": [
    "sma.publishData()"
   ]
  },
  {
   "cell_type": "code",
   "execution_count": 47,
   "id": "eacc0bd9-274d-48be-aed3-ae2779b9f4c6",
   "metadata": {},
   "outputs": [
    {
     "data": {
      "text/plain": [
       "{'status': 'success', 'message': 'Active'}"
      ]
     },
     "execution_count": 47,
     "metadata": {},
     "output_type": "execute_result"
    }
   ],
   "source": [
    "sma.checkDatasetStatus()"
   ]
  },
  {
   "cell_type": "code",
   "execution_count": 48,
   "id": "6ee7f2da-2f4e-478f-9fbd-09a568664e55",
   "metadata": {},
   "outputs": [
    {
     "name": "stdout",
     "output_type": "stream",
     "text": [
      "\u001b[0;34m[2023-11-29 16:51:26,755] [INFO] Table m_655cebb7_Flow_Sales already exist.\u001b[0m\n",
      "\u001b[0;34m[2023-11-29 16:51:27,075] [INFO] Table m_655cebb7_Flow_Sales already exist.\u001b[0m\n",
      "\u001b[0;34m[2023-11-29 16:51:27,090] [INFO] Loading table m_8edbd0b9802fd701256267551a59a9a7_Flow_Sales with data...\u001b[0m\n",
      "\u001b[0;34m[2023-11-29 16:51:27,195] [INFO] Data inserted successfully !!\u001b[0m\n",
      "\u001b[0;34m[2023-11-29 16:51:27,202] [INFO] Query executed successfully !!\u001b[0m\n",
      "\u001b[0;34m[2023-11-29 16:51:27,208] [INFO] Query executed successfully !!\u001b[0m\n",
      "\u001b[0;34m[2023-11-29 16:51:27,505] [INFO] Table m_655cebb7_Flow_Sales_backup already exist.\u001b[0m\n",
      "\u001b[0;34m[2023-11-29 16:51:27,506] [INFO] Deleting table m_655cebb7_Flow_Sales_backup ...\u001b[0m\n",
      "\u001b[0;34m[2023-11-29 16:51:27,517] [INFO] Query executed successfully !!\u001b[0m\n",
      "\u001b[0;34m[2023-11-29 16:51:27,518] [INFO] Request to hit createDict ====> [{dataset: 655ceb56-HrXES9SSm, filter: Smart Analytics, tables: [Flow_Sales]}]\u001b[0m\n"
     ]
    },
    {
     "data": {
      "text/plain": [
       "{'status': 'success', 'message': 'Smart analytics updated successfully !!'}"
      ]
     },
     "execution_count": 48,
     "metadata": {},
     "output_type": "execute_result"
    }
   ],
   "source": [
    "sma.update(smart_analytics_name, df, arrow, overwrite, publish)"
   ]
  },
  {
   "cell_type": "code",
   "execution_count": 13,
   "id": "c4cc5872-1b2d-4fc2-889f-185bd152ad55",
   "metadata": {},
   "outputs": [],
   "source": [
    "sma.delete(smart_analytics_name)"
   ]
  }
 ],
 "metadata": {
  "kernelspec": {
   "display_name": "Python 3 (ipykernel)",
   "language": "python",
   "name": "python3"
  },
  "language_info": {
   "codemirror_mode": {
    "name": "ipython",
    "version": 3
   },
   "file_extension": ".py",
   "mimetype": "text/x-python",
   "name": "python",
   "nbconvert_exporter": "python",
   "pygments_lexer": "ipython3",
   "version": "3.9.10"
  }
 },
 "nbformat": 4,
 "nbformat_minor": 5
}
