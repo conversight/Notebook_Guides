{
 "cells": [
  {
   "cell_type": "markdown",
   "id": "09c60eb4-b162-450b-871f-5f67a78ca7eb",
   "metadata": {},
   "source": [
    "# Introduction to Organisation"
   ]
  },
  {
   "cell_type": "markdown",
   "id": "e7cdf9cc-2ece-45f7-ba72-e2493eb5e626",
   "metadata": {},
   "source": [
    "**Organisation** generally refers to an organization's details and datasets are loaded into a module, and this module serves as a centralized location to access and manage these datasets. "
   ]
  },
  {
   "cell_type": "markdown",
   "id": "c56baf95-17c4-4705-9a17-688a742eff4f",
   "metadata": {},
   "source": [
    "Let's import the Organisation from conversight library"
   ]
  },
  {
   "cell_type": "code",
   "execution_count": 2,
   "id": "392bc1cd-6141-487c-9494-45e8b3484da4",
   "metadata": {},
   "outputs": [],
   "source": [
    "from conversight import Organisation"
   ]
  },
  {
   "cell_type": "markdown",
   "id": "bc898f1e-81a5-4a2c-b7fc-42576fba493b",
   "metadata": {},
   "source": [
    "The Organisation module takes the following arguments.\n",
    "| Arguments     | Description |\n",
    "| :------------ | :----------- |\n",
    "| token | Token of user logged in. Its an optional argument. If no token provided by default user logged in token will be taken |"
   ]
  },
  {
   "cell_type": "raw",
   "id": "d4b9724b-9698-4430-96df-049650448fb8",
   "metadata": {},
   "source": [
    "org = Organisation()"
   ]
  },
  {
   "cell_type": "markdown",
   "id": "9756d1d1-7e42-4716-8e43-ce383e990680",
   "metadata": {},
   "source": [
    "\n",
    "```[2023-11-30 13:33:43,720] [ERROR] Dataset status is ***** ConnectorSelected\n",
    "[2023-11-30 13:33:43,874] [ERROR] Dataset status is ***** Created\n",
    "[2023-11-30 13:33:43,985] [INFO] Loading dataset tempporary...\n",
    "[2023-11-30 13:33:44,136] [DEBUG] Connecting to database STGIT_prod...\n",
    "[2023-11-30 13:33:44,427] [DEBUG] STGIT_prod connected successfully !!\n",
    "[2023-11-30 13:33:44,636] [INFO] ***** 6538ba56-buk8JY7Sm Dataset object created.*****\n",
    "[2023-11-30 13:33:44,729] [ERROR] Dataset status is ***** Configured\n",
    "[2023-11-30 13:33:44,853] [ERROR] Dataset status is ***** Configured\n",
    "[2023-11-30 13:33:44,935] [INFO] Loading dataset save_exit_from_con_selected...\n",
    "[2023-11-30 13:33:45,155] [DEBUG] Connecting to database STGIT_prod...\n",
    "[2023-11-30 13:33:45,442] [DEBUG] STGIT_prod connected successfully !!\n",
    "[2023-11-30 13:33:45,726] [INFO] ***** 6549e814-WIttZy4Si Dataset object created.***** ```"
   ]
  },
  {
   "cell_type": "code",
   "execution_count": null,
   "id": "b1197b57-9698-4191-a55f-c05155971c5d",
   "metadata": {},
   "outputs": [],
   "source": [
    "This Module Loads all the datasets loaded into the org alond with its database connection. Loading time will vary based on the dataset count."
   ]
  }
 ],
 "metadata": {
  "kernelspec": {
   "display_name": "Python 3 (ipykernel)",
   "language": "python",
   "name": "python3"
  },
  "language_info": {
   "codemirror_mode": {
    "name": "ipython",
    "version": 3
   },
   "file_extension": ".py",
   "mimetype": "text/x-python",
   "name": "python",
   "nbconvert_exporter": "python",
   "pygments_lexer": "ipython3",
   "version": "3.9.10"
  }
 },
 "nbformat": 4,
 "nbformat_minor": 5
}
