{
 "cells": [
  {
   "attachments": {},
   "cell_type": "markdown",
   "id": "8f671f70-fc32-43f3-9c93-4989d12c5b07",
   "metadata": {},
   "source": [
    "# Introduction to Dataset"
   ]
  },
  {
   "cell_type": "markdown",
   "id": "d1f1f20c-17bc-4b3a-9e63-bebf7dbfe78b",
   "metadata": {},
   "source": [
    "A dataset is a structured collection of data, often organized in tabular form, that represents information about a particular domain or topic. It is a set of data points or observations typically related to each other in some way. Datasets can be used for various purposes, including analysis, research, and training machine learning models."
   ]
  },
  {
   "cell_type": "markdown",
   "id": "7678c763-3027-4bdd-ae47-d4fe3e043270",
   "metadata": {},
   "source": [
    "Let's import the Dataset from csSDK, csSDK is an another ConverSight library which is effectively used to query the dataset in different ways"
   ]
  },
  {
   "cell_type": "code",
   "execution_count": 3,
   "id": "b0142420-98ab-42d8-be36-16543e9caf73",
   "metadata": {},
   "outputs": [],
   "source": [
    "from csSDK import Dataset"
   ]
  },
  {
   "cell_type": "markdown",
   "id": "ac1164e0-36a8-43c5-86c5-46a11fddbafb",
   "metadata": {},
   "source": [
    "The Dataset module takes the following arguments\n",
    "| Arguments     | Description |\n",
    "| :------------ | :----------- |\n",
    "| dataset_id | The id of the dataset to be initiated|\n",
    "| token | Token of user logged in. Its an optional argument. If no token provided by default user logged in token will be taken |"
   ]
  },
  {
   "cell_type": "code",
   "execution_count": 1,
   "id": "99122331-ab74-49c3-b733-0365d156f10d",
   "metadata": {},
   "outputs": [],
   "source": [
    "dataset_id = \"655ceb56-HrXES9SSm\""
   ]
  },
  {
   "cell_type": "markdown",
   "id": "b51c1581-eed2-435e-86c3-9c7fc13b6dc6",
   "metadata": {},
   "source": [
    "You can get the dataset id by navigating to the side menu in the UI `Data Workbench -> Data Management` and click the dataset. In the browser address bar you can see the dataset id at the very end of the URL"
   ]
  },
  {
   "cell_type": "code",
   "execution_count": 2,
   "id": "6a141c2f-2200-4270-a065-efe9cb4ed3b5",
   "metadata": {},
   "outputs": [
    {
     "name": "stdout",
     "output_type": "stream",
     "text": [
      "Retail Sales loaded successfully\n"
     ]
    }
   ],
   "source": [
    "ds = Dataset(dataset_id=dataset_id)"
   ]
  },
  {
   "cell_type": "markdown",
   "id": "4799ffd9-a274-4cae-b134-be70e593134c",
   "metadata": {},
   "source": [
    "So now the dataset has been initiated, let's see the most accessed features\n",
    "- raw_sql => This method accepts the most common standard sql query and return the data in data frame\n",
    "  > - query: the version of the flow to be set as current version.\n",
    "  > - token: It's and optional argument to override the token\n",
    "- raw_sql_arrow => This method accepts the most common standard sql query and return the data in arrow format\n",
    "  > - query: the version of the flow to be set as current version.\n",
    "  > - token: It's and optional argument to override the token\n",
    "- sql_arrow => This method accepts the ConverSight standard sql query and return the data in arrow format \n",
    "  > - query: the version of the flow to be set as current version.\n",
    "  > - token: It's and optional argument to override the token  \n",
    "- sql_dataframe => This method accepts the ConverSight standard sql query and return the data in data frame \n",
    "  > - query: the version of the flow to be set as current version.\n",
    "  > - token: It's and optional argument to override the token     "
   ]
  },
  {
   "cell_type": "code",
   "execution_count": 27,
   "id": "ca6d9b9a-995b-4576-8ef3-fdae51874d9d",
   "metadata": {},
   "outputs": [],
   "source": [
    "conversight_query = \"\"\"Select @RetailSales.revenue as newcost, @RetailSales.delivery_date, @RetailSales.buyer from #RetailSales\"\"\""
   ]
  },
  {
   "cell_type": "code",
   "execution_count": 10,
   "id": "8c2feed8-9957-40b6-a71f-360c0e3133cc",
   "metadata": {},
   "outputs": [
    {
     "data": {
      "text/html": [
       "<div>\n",
       "<style scoped>\n",
       "    .dataframe tbody tr th:only-of-type {\n",
       "        vertical-align: middle;\n",
       "    }\n",
       "\n",
       "    .dataframe tbody tr th {\n",
       "        vertical-align: top;\n",
       "    }\n",
       "\n",
       "    .dataframe thead th {\n",
       "        text-align: right;\n",
       "    }\n",
       "</style>\n",
       "<table border=\"1\" class=\"dataframe\">\n",
       "  <thead>\n",
       "    <tr style=\"text-align: right;\">\n",
       "      <th></th>\n",
       "      <th>newcost</th>\n",
       "      <th>m_delivery_date</th>\n",
       "      <th>m_buyer</th>\n",
       "    </tr>\n",
       "  </thead>\n",
       "  <tbody>\n",
       "    <tr>\n",
       "      <th>0</th>\n",
       "      <td>5980.000000</td>\n",
       "      <td>2016-01-09</td>\n",
       "      <td>Nass Torres</td>\n",
       "    </tr>\n",
       "    <tr>\n",
       "      <th>1</th>\n",
       "      <td>7211.259766</td>\n",
       "      <td>2016-01-11</td>\n",
       "      <td>Sascha Johnson</td>\n",
       "    </tr>\n",
       "    <tr>\n",
       "      <th>2</th>\n",
       "      <td>35999.601562</td>\n",
       "      <td>2016-01-12</td>\n",
       "      <td>Kim Rogers</td>\n",
       "    </tr>\n",
       "    <tr>\n",
       "      <th>3</th>\n",
       "      <td>19950.000000</td>\n",
       "      <td>2016-01-12</td>\n",
       "      <td>Kei Thompson</td>\n",
       "    </tr>\n",
       "    <tr>\n",
       "      <th>4</th>\n",
       "      <td>7980.000000</td>\n",
       "      <td>2016-01-11</td>\n",
       "      <td>Gabby Taylor</td>\n",
       "    </tr>\n",
       "    <tr>\n",
       "      <th>...</th>\n",
       "      <td>...</td>\n",
       "      <td>...</td>\n",
       "      <td>...</td>\n",
       "    </tr>\n",
       "    <tr>\n",
       "      <th>15797</th>\n",
       "      <td>35199.359375</td>\n",
       "      <td>2018-08-18</td>\n",
       "      <td>Mo Myers</td>\n",
       "    </tr>\n",
       "    <tr>\n",
       "      <th>15798</th>\n",
       "      <td>39767.000000</td>\n",
       "      <td>2018-08-15</td>\n",
       "      <td>Fran Sullivan</td>\n",
       "    </tr>\n",
       "    <tr>\n",
       "      <th>15799</th>\n",
       "      <td>11046.000000</td>\n",
       "      <td>2018-08-17</td>\n",
       "      <td>Izzi Jones</td>\n",
       "    </tr>\n",
       "    <tr>\n",
       "      <th>15800</th>\n",
       "      <td>65189.468750</td>\n",
       "      <td>2018-08-18</td>\n",
       "      <td>Nik Reyes</td>\n",
       "    </tr>\n",
       "    <tr>\n",
       "      <th>15801</th>\n",
       "      <td>23099.230469</td>\n",
       "      <td>2018-08-19</td>\n",
       "      <td>Izzi Taylor</td>\n",
       "    </tr>\n",
       "  </tbody>\n",
       "</table>\n",
       "<p>15802 rows × 3 columns</p>\n",
       "</div>"
      ],
      "text/plain": [
       "            newcost m_delivery_date         m_buyer\n",
       "0       5980.000000      2016-01-09     Nass Torres\n",
       "1       7211.259766      2016-01-11  Sascha Johnson\n",
       "2      35999.601562      2016-01-12      Kim Rogers\n",
       "3      19950.000000      2016-01-12    Kei Thompson\n",
       "4       7980.000000      2016-01-11    Gabby Taylor\n",
       "...             ...             ...             ...\n",
       "15797  35199.359375      2018-08-18        Mo Myers\n",
       "15798  39767.000000      2018-08-15   Fran Sullivan\n",
       "15799  11046.000000      2018-08-17      Izzi Jones\n",
       "15800  65189.468750      2018-08-18       Nik Reyes\n",
       "15801  23099.230469      2018-08-19     Izzi Taylor\n",
       "\n",
       "[15802 rows x 3 columns]"
      ]
     },
     "execution_count": 10,
     "metadata": {},
     "output_type": "execute_result"
    }
   ],
   "source": [
    "ds.sql_dataframe(query=conversight_query)"
   ]
  },
  {
   "cell_type": "code",
   "execution_count": 7,
   "id": "1673d9de-b71f-496b-aea8-0720cb6ffe00",
   "metadata": {},
   "outputs": [
    {
     "data": {
      "text/plain": [
       "pyarrow.Table\n",
       "newcost: float\n",
       "m_delivery_date: timestamp[s]\n",
       "m_buyer: dictionary<values=string, indices=int32, ordered=0>\n",
       "----\n",
       "newcost: [[5980,7211.26,35999.6,19950,7980,...,35199.36,39767,11046,65189.47,23099.23]]\n",
       "m_delivery_date: [[2016-01-09 00:00:00,2016-01-11 00:00:00,2016-01-12 00:00:00,2016-01-12 00:00:00,2016-01-11 00:00:00,...,2018-08-18 00:00:00,2018-08-15 00:00:00,2018-08-17 00:00:00,2018-08-18 00:00:00,2018-08-19 00:00:00]]\n",
       "m_buyer: [  -- dictionary:\n",
       "[\"Nass Torres\",\"Sascha Johnson\",\"Kim Rogers\",\"Kei Thompson\",\"Gabby Taylor\",...,\"Nik Reyes\",\"Izzi Taylor\",\"Chris Martino\",\"Fran Frumine\",\"Myntra\"]  -- indices:\n",
       "[0,1,2,3,4,...,5,6,7,8,9]]"
      ]
     },
     "execution_count": 7,
     "metadata": {},
     "output_type": "execute_result"
    }
   ],
   "source": [
    "ds.sql_arrow(query=conversight_query)"
   ]
  },
  {
   "cell_type": "code",
   "execution_count": 24,
   "id": "b799e3fd-acf9-4c98-905c-0aefa6608d90",
   "metadata": {},
   "outputs": [],
   "source": [
    "con = ds.get_connector_info()\n",
    "resolved_query = f\"\"\"Select {con.schema.current}_RetailSales.m_revenue as newcost, {con.schema.current}_RetailSales.m_delivery_date as delivery_date, {con.schema.current}_RetailSales.m_buyer as buyer from {con.schema.current}_RetailSales\"\"\""
   ]
  },
  {
   "cell_type": "markdown",
   "id": "b0d6eafd-4a53-48fa-b57f-89553d6d33c1",
   "metadata": {},
   "source": [
    "In the above, resolved query is the conversight internal resolved query which is using the dynamic schema id "
   ]
  },
  {
   "cell_type": "code",
   "execution_count": 25,
   "id": "8fef900b-950c-46aa-9b83-90ee0e3bf83a",
   "metadata": {},
   "outputs": [
    {
     "data": {
      "text/html": [
       "<div>\n",
       "<style scoped>\n",
       "    .dataframe tbody tr th:only-of-type {\n",
       "        vertical-align: middle;\n",
       "    }\n",
       "\n",
       "    .dataframe tbody tr th {\n",
       "        vertical-align: top;\n",
       "    }\n",
       "\n",
       "    .dataframe thead th {\n",
       "        text-align: right;\n",
       "    }\n",
       "</style>\n",
       "<table border=\"1\" class=\"dataframe\">\n",
       "  <thead>\n",
       "    <tr style=\"text-align: right;\">\n",
       "      <th></th>\n",
       "      <th>newcost</th>\n",
       "      <th>delivery_date</th>\n",
       "      <th>buyer</th>\n",
       "    </tr>\n",
       "  </thead>\n",
       "  <tbody>\n",
       "    <tr>\n",
       "      <th>0</th>\n",
       "      <td>5980.000000</td>\n",
       "      <td>2016-01-09</td>\n",
       "      <td>Nass Torres</td>\n",
       "    </tr>\n",
       "    <tr>\n",
       "      <th>1</th>\n",
       "      <td>7211.259766</td>\n",
       "      <td>2016-01-11</td>\n",
       "      <td>Sascha Johnson</td>\n",
       "    </tr>\n",
       "    <tr>\n",
       "      <th>2</th>\n",
       "      <td>35999.601562</td>\n",
       "      <td>2016-01-12</td>\n",
       "      <td>Kim Rogers</td>\n",
       "    </tr>\n",
       "    <tr>\n",
       "      <th>3</th>\n",
       "      <td>19950.000000</td>\n",
       "      <td>2016-01-12</td>\n",
       "      <td>Kei Thompson</td>\n",
       "    </tr>\n",
       "    <tr>\n",
       "      <th>4</th>\n",
       "      <td>7980.000000</td>\n",
       "      <td>2016-01-11</td>\n",
       "      <td>Gabby Taylor</td>\n",
       "    </tr>\n",
       "    <tr>\n",
       "      <th>...</th>\n",
       "      <td>...</td>\n",
       "      <td>...</td>\n",
       "      <td>...</td>\n",
       "    </tr>\n",
       "    <tr>\n",
       "      <th>15797</th>\n",
       "      <td>35199.359375</td>\n",
       "      <td>2018-08-18</td>\n",
       "      <td>Mo Myers</td>\n",
       "    </tr>\n",
       "    <tr>\n",
       "      <th>15798</th>\n",
       "      <td>39767.000000</td>\n",
       "      <td>2018-08-15</td>\n",
       "      <td>Fran Sullivan</td>\n",
       "    </tr>\n",
       "    <tr>\n",
       "      <th>15799</th>\n",
       "      <td>11046.000000</td>\n",
       "      <td>2018-08-17</td>\n",
       "      <td>Izzi Jones</td>\n",
       "    </tr>\n",
       "    <tr>\n",
       "      <th>15800</th>\n",
       "      <td>65189.468750</td>\n",
       "      <td>2018-08-18</td>\n",
       "      <td>Nik Reyes</td>\n",
       "    </tr>\n",
       "    <tr>\n",
       "      <th>15801</th>\n",
       "      <td>23099.230469</td>\n",
       "      <td>2018-08-19</td>\n",
       "      <td>Izzi Taylor</td>\n",
       "    </tr>\n",
       "  </tbody>\n",
       "</table>\n",
       "<p>15802 rows × 3 columns</p>\n",
       "</div>"
      ],
      "text/plain": [
       "            newcost delivery_date           buyer\n",
       "0       5980.000000    2016-01-09     Nass Torres\n",
       "1       7211.259766    2016-01-11  Sascha Johnson\n",
       "2      35999.601562    2016-01-12      Kim Rogers\n",
       "3      19950.000000    2016-01-12    Kei Thompson\n",
       "4       7980.000000    2016-01-11    Gabby Taylor\n",
       "...             ...           ...             ...\n",
       "15797  35199.359375    2018-08-18        Mo Myers\n",
       "15798  39767.000000    2018-08-15   Fran Sullivan\n",
       "15799  11046.000000    2018-08-17      Izzi Jones\n",
       "15800  65189.468750    2018-08-18       Nik Reyes\n",
       "15801  23099.230469    2018-08-19     Izzi Taylor\n",
       "\n",
       "[15802 rows x 3 columns]"
      ]
     },
     "execution_count": 25,
     "metadata": {},
     "output_type": "execute_result"
    }
   ],
   "source": [
    "ds.raw_sql(query=resolved_query)"
   ]
  },
  {
   "cell_type": "code",
   "execution_count": 26,
   "id": "512394e1-86f6-4c95-b7ff-adbd83364d95",
   "metadata": {},
   "outputs": [
    {
     "data": {
      "text/plain": [
       "pyarrow.Table\n",
       "newcost: float\n",
       "delivery_date: timestamp[s]\n",
       "buyer: dictionary<values=string, indices=int32, ordered=0>\n",
       "----\n",
       "newcost: [[5980,7211.26,35999.6,19950,7980,...,35199.36,39767,11046,65189.47,23099.23]]\n",
       "delivery_date: [[2016-01-09 00:00:00,2016-01-11 00:00:00,2016-01-12 00:00:00,2016-01-12 00:00:00,2016-01-11 00:00:00,...,2018-08-18 00:00:00,2018-08-15 00:00:00,2018-08-17 00:00:00,2018-08-18 00:00:00,2018-08-19 00:00:00]]\n",
       "buyer: [  -- dictionary:\n",
       "[\"Nass Torres\",\"Sascha Johnson\",\"Kim Rogers\",\"Kei Thompson\",\"Gabby Taylor\",...,\"Nik Reyes\",\"Izzi Taylor\",\"Chris Martino\",\"Fran Frumine\",\"Myntra\"]  -- indices:\n",
       "[0,1,2,3,4,...,5,6,7,8,9]]"
      ]
     },
     "execution_count": 26,
     "metadata": {},
     "output_type": "execute_result"
    }
   ],
   "source": [
    "ds.raw_sql_arrow(query=resolved_query)"
   ]
  },
  {
   "cell_type": "code",
   "execution_count": null,
   "id": "7a16d45a-0cdf-45f0-908f-7a8e34945290",
   "metadata": {},
   "outputs": [],
   "source": []
  }
 ],
 "metadata": {
  "kernelspec": {
   "display_name": "Python 3 (ipykernel)",
   "language": "python",
   "name": "python3"
  },
  "language_info": {
   "codemirror_mode": {
    "name": "ipython",
    "version": 3
   },
   "file_extension": ".py",
   "mimetype": "text/x-python",
   "name": "python",
   "nbconvert_exporter": "python",
   "pygments_lexer": "ipython3",
   "version": "3.9.10"
  }
 },
 "nbformat": 4,
 "nbformat_minor": 5
}
