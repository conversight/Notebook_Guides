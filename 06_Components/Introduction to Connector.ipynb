{
 "cells": [
  {
   "cell_type": "markdown",
   "id": "09c60eb4-b162-450b-871f-5f67a78ca7eb",
   "metadata": {},
   "source": [
    "# Introduction to Connector"
   ]
  },
  {
   "cell_type": "markdown",
   "id": "e7cdf9cc-2ece-45f7-ba72-e2493eb5e626",
   "metadata": {},
   "source": [
    "**Connector** in the context of data often refers to an interface that facilitates the integration data sources, allowing users to establish a connection between different applications or databases to enable seamless data flow.This connector module points the connector pgae of conversight."
   ]
  },
  {
   "cell_type": "markdown",
   "id": "c56baf95-17c4-4705-9a17-688a742eff4f",
   "metadata": {},
   "source": [
    "Let's import the Connector from conversight library"
   ]
  },
  {
   "cell_type": "code",
   "execution_count": 1,
   "id": "392bc1cd-6141-487c-9494-45e8b3484da4",
   "metadata": {},
   "outputs": [],
   "source": [
    "from conversight import Connector"
   ]
  },
  {
   "cell_type": "markdown",
   "id": "0da6cbdf-9b83-446f-8493-a199aa883239",
   "metadata": {},
   "source": [
    "The Connector module takes the following arguments. We can access Connector object without argument. If argument passed particular connector details will be loaded else all the connectors in the organisation will be loaded. By default it takes no arguement.\n",
    "| Arguments | Description|\n",
    "|:------------ |:----------- |\n",
    "|connectorId | The id of the connector to be accessed|\n"
   ]
  },
  {
   "cell_type": "code",
   "execution_count": 2,
   "id": "5247fc1a-a636-4e34-bd91-94530cb953a8",
   "metadata": {},
   "outputs": [
    {
     "name": "stdout",
     "output_type": "stream",
     "text": [
      "\u001b[0;34m[2023-11-30 10:30:44,306] [INFO] Loading All Connectors\u001b[0m\n",
      "\u001b[0;34m[2023-11-30 10:30:44,568] [INFO] Connectors loaded  !!\u001b[0m\n"
     ]
    }
   ],
   "source": [
    "con = Connector()"
   ]
  },
  {
   "cell_type": "markdown",
   "id": "35f5c91b-7f09-41ce-b085-6d1a76f0d2df",
   "metadata": {},
   "source": [
    "Now, the connector object has been created. we can see all the loaded connectors by giving object with dot. It will list the connector names. Using which we can access the used needed features."
   ]
  },
  {
   "cell_type": "markdown",
   "id": "8b5c0a4a-6d81-48a5-81dc-cb91fea2a99c",
   "metadata": {},
   "source": [
    "> - connectorId -> The unique id of the connector created in the platform\n",
    "> - connector name -> The name of the connector which used gave while creating the connector.(If user has given name with space spaces will be converted int underscore)\n",
    "> - connector type -> The connection type of the connector. eg: Excel, Csv, MySql, etc.,\n",
    "> - dataframe -> Connection properties will be shown in the form of dataframe\n",
    "> - status -> Connection status in the platform whether it is Success/Failed\n",
    "> - download -> Function to download the files of the file type connectors. File currently used by athena. File will be downloaded into notebook."
   ]
  },
  {
   "cell_type": "code",
   "execution_count": 14,
   "id": "ff264d74-298f-453a-b00f-44a3d0d57a58",
   "metadata": {},
   "outputs": [
    {
     "data": {
      "text/plain": [
       "('640ad429-AAwkjSa4m', 'case_one', 'Excel', 'ValidationInProgress')"
      ]
     },
     "execution_count": 14,
     "metadata": {},
     "output_type": "execute_result"
    }
   ],
   "source": [
    "# Example\n",
    "con.Retail.connectorId, con.case_one.connectorName,con.case_one.connectorType,con.case_one.status\n"
   ]
  },
  {
   "cell_type": "code",
   "execution_count": 15,
   "id": "488f9925-0cb3-412c-8962-88f4f286bab5",
   "metadata": {},
   "outputs": [
    {
     "data": {
      "text/html": [
       "<table> <thead> <tr> <th>S.no</th> <th style='text-align:center'> connectorId </th> <th style='text-align:center'> connectorName </th> <th style='text-align:center'> connectorType </th> <th style='text-align:center'> status </th> <th style='text-align:center'> connectionProperties </th> </tr> </thead> <tbody> <tr style='word-wrap: break-word'> <td style='text-align:center; word-wrap: break-word'> 1 </td> <td style='text-align:center; word-wrap: break-word'> 640ad429-AAwkjSa4m </td> <td style='text-align:center; word-wrap: break-word'> Retail </td>                               <td style='text-align:center; word-wrap: break-word'> Excel </td> <td style='text-align:centre; word-break:break-all'> Success </td> </tr> </tbody> </table>"
      ],
      "text/plain": [
       "<IPython.core.display.HTML object>"
      ]
     },
     "metadata": {},
     "output_type": "display_data"
    },
    {
     "data": {
      "text/plain": [
       "<bound method dataFrame of >"
      ]
     },
     "execution_count": 15,
     "metadata": {},
     "output_type": "execute_result"
    }
   ],
   "source": [
    "# Example\n",
    "con.Retail.dataFrame"
   ]
  },
  {
   "cell_type": "code",
   "execution_count": 16,
   "id": "1dd51c94-3731-4a42-8b65-4d587d13cc44",
   "metadata": {},
   "outputs": [
    {
     "data": {
      "text/html": [
       "<style>.left-spacing-class {margin-left: 10px; width: auto;}</style>"
      ],
      "text/plain": [
       "<IPython.core.display.HTML object>"
      ]
     },
     "metadata": {},
     "output_type": "display_data"
    },
    {
     "data": {
      "application/vnd.jupyter.widget-view+json": {
       "model_id": "aef7086432db4703a991ca735297a3db",
       "version_major": 2,
       "version_minor": 0
      },
      "text/plain": [
       "HBox(children=(Button(button_style='success', description='Download Retail.xlsx', icon='radiation-alt', style=…"
      ]
     },
     "metadata": {},
     "output_type": "display_data"
    }
   ],
   "source": [
    "# Example\n",
    "con.Retail.download()"
   ]
  },
  {
   "cell_type": "markdown",
   "id": "160ff038-ecd3-4a6a-b30c-256146419f9a",
   "metadata": {},
   "source": [
    "**FishbowlDesktop**"
   ]
  },
  {
   "cell_type": "code",
   "execution_count": 19,
   "id": "e3ce9ad2-af08-4bf9-849d-e2cf74ec31b7",
   "metadata": {},
   "outputs": [
    {
     "data": {
      "text/plain": [
       "'FishbowlDesktop'"
      ]
     },
     "execution_count": 19,
     "metadata": {},
     "output_type": "execute_result"
    }
   ],
   "source": [
    "con.AEV_FB.connectorType"
   ]
  },
  {
   "cell_type": "code",
   "execution_count": 20,
   "id": "f084abec-a09e-4a0b-b137-8991f9ea7bfc",
   "metadata": {},
   "outputs": [
    {
     "data": {
      "text/plain": [
       "'Failed'"
      ]
     },
     "execution_count": 20,
     "metadata": {},
     "output_type": "execute_result"
    }
   ],
   "source": [
    "con.AEV_FB.status"
   ]
  },
  {
   "cell_type": "code",
   "execution_count": 23,
   "id": "96e497e9-ef31-49f7-93c7-b5472bbdcfa2",
   "metadata": {},
   "outputs": [
    {
     "data": {
      "text/plain": [
       "('surna_live', '173.164.45.149:3305')"
      ]
     },
     "execution_count": 23,
     "metadata": {},
     "output_type": "execute_result"
    }
   ],
   "source": [
    "con.AEV_FB.FishbowlDesktop.database,con.AEV_FB.FishbowlDesktop.url"
   ]
  },
  {
   "cell_type": "code",
   "execution_count": null,
   "id": "97f11fe6-347d-46b4-bfe7-92a538ec2c77",
   "metadata": {},
   "outputs": [],
   "source": []
  },
  {
   "cell_type": "code",
   "execution_count": null,
   "id": "9a24f952-cbe7-4ae5-a89f-ea68c74ad6aa",
   "metadata": {},
   "outputs": [],
   "source": []
  }
 ],
 "metadata": {
  "kernelspec": {
   "display_name": "Python 3 (ipykernel)",
   "language": "python",
   "name": "python3"
  },
  "language_info": {
   "codemirror_mode": {
    "name": "ipython",
    "version": 3
   },
   "file_extension": ".py",
   "mimetype": "text/x-python",
   "name": "python",
   "nbconvert_exporter": "python",
   "pygments_lexer": "ipython3",
   "version": "3.9.10"
  }
 },
 "nbformat": 4,
 "nbformat_minor": 5
}
