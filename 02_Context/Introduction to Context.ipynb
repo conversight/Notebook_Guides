{
 "cells": [
  {
   "cell_type": "markdown",
   "id": "def7d74a-baa0-4e4b-9c09-b403520888e4",
   "metadata": {},
   "source": [
    "# Introduction to ConverSight Context Manager"
   ]
  },
  {
   "cell_type": "markdown",
   "id": "5645dfd2-191e-483b-b183-423d2a7a3712",
   "metadata": {},
   "source": [
    "The context manager in ConverSight is an module that defines the common functionalities used by tasks & flows. The primary purpose of a context manager is to simplify the management of resources, such as maintaining session attributes within the process and storing large data in the object store and get it back later."
   ]
  },
  {
   "cell_type": "markdown",
   "id": "fd5ab2ba-e072-4c5f-af35-56629a309b21",
   "metadata": {},
   "source": [
    "Let's import the context manager from conversight library"
   ]
  },
  {
   "cell_type": "code",
   "execution_count": 1,
   "id": "5d3293de-42a1-4dde-9f2f-e04ef2b3a6b9",
   "metadata": {},
   "outputs": [],
   "source": [
    "from conversight import Context"
   ]
  },
  {
   "cell_type": "markdown",
   "id": "eda3b2d5-25ff-48b7-a813-ae92782e0426",
   "metadata": {},
   "source": [
    "Since this context is internally managed by Athena, all you have to do is pass this Context as an argument to the conversight tasks. This Context module has the following features built in \n",
    "- set => This method stores the data in the object store with reference to the given key\n",
    "  > - key: It is the name that attaches the reference to the value\n",
    "  > - value: Actual value to be stored, this could be anything\n",
    "- get => This method gets the data from the objecct store based on the given key\n",
    "  > - key: It's the reference name to retrieve the stored data .\n",
    "- session => This object holds the most essential session attributes about the running task/flow\n",
    "- waitUntilDatasetActive => This method checks the given dataset(s) are active or not and put a pause on the flow until the dataset(s) becomes active otherwise raise an exception and stop the flow\n",
    "  > - datasetIds: List of dataset Ids to be verified\n",
    "  > - maxRetries: Number of times to try if  dataset is not active, the default value is 2\n",
    "  > - maxWaitTime: Number of seconds to wait before next try, the default value is 10\n",
    "  > - incrementMultiplier: Number of times to increase the maxWaitTime, default value is 2 (maxWaitTime * incrementCount => 10 * 2 => 20 seconds) "
   ]
  },
  {
   "cell_type": "markdown",
   "id": "4a7a4bad-eb37-4ac5-8f27-e7e402489d10",
   "metadata": {},
   "source": [
    "Let's create a simple task with context manager as an argument"
   ]
  },
  {
   "cell_type": "code",
   "execution_count": 2,
   "id": "a6c51747-688b-41e8-8323-2aeceb8256d9",
   "metadata": {},
   "outputs": [],
   "source": [
    "from conversight import task"
   ]
  },
  {
   "cell_type": "code",
   "execution_count": 6,
   "id": "52a47504-a942-4190-905d-865da97fd0fe",
   "metadata": {},
   "outputs": [],
   "source": [
    "@task(name=\"context_example\", tags=[\"context\", \"calculation\"])\n",
    "def cs_context(x: str, ctx: Context) -> int:\n",
    "    \"\"\"A simple context function\"\"\"\n",
    "    try:\n",
    "        return f\"{x} {ctx.session.display_name} I got your name from the session\"\n",
    "    except Exception as e:\n",
    "        return e"
   ]
  },
  {
   "cell_type": "code",
   "execution_count": 7,
   "id": "25b04665-ba5c-43ef-9635-3936fe6f0086",
   "metadata": {},
   "outputs": [
    {
     "data": {
      "text/plain": [
       "'Hello Athena I got your name from the session'"
      ]
     },
     "execution_count": 7,
     "metadata": {},
     "output_type": "execute_result"
    }
   ],
   "source": [
    "cs_context.run(\"Hello\")"
   ]
  },
  {
   "cell_type": "markdown",
   "id": "e7b88869-b249-4fb6-b30a-5ff8ceda7d88",
   "metadata": {},
   "source": [
    "Let's create couple of tasks to see the set and get features using a flow"
   ]
  },
  {
   "cell_type": "code",
   "execution_count": 35,
   "id": "4b7d7bf2-7207-4e7e-a58c-50bc31435aa9",
   "metadata": {},
   "outputs": [],
   "source": [
    "@task(name=\"context_set\", tags=[\"context\", \"setter\"])\n",
    "def context_set(set_key: str, set_value: Any, ctx: Context) -> str:\n",
    "    \"\"\"A simple context setter function\"\"\"\n",
    "    try:\n",
    "        response = ctx.set(key=set_key, value=set_value)\n",
    "        ctx.log.info(f\"Value stored in {set_key}\")\n",
    "        return set_key\n",
    "    except Exception as e:\n",
    "        return e"
   ]
  },
  {
   "cell_type": "code",
   "execution_count": 36,
   "id": "abe5e897-2cd3-43ec-9819-37430e4f2ff2",
   "metadata": {},
   "outputs": [
    {
     "name": "stdout",
     "output_type": "stream",
     "text": [
      "\u001b[0;34m[2023-11-29 19:39:20,870] [INFO] context_set has been successfully registered. The most recent version available is 0.2 !!\u001b[0m\n"
     ]
    }
   ],
   "source": [
    "context_set.register(\"Context_Examples\", \"A simple context setter function\", \"edit\", True, True)"
   ]
  },
  {
   "cell_type": "code",
   "execution_count": 19,
   "id": "47f60411-765f-4e0e-a675-f2bfb4fa83b9",
   "metadata": {},
   "outputs": [
    {
     "data": {
      "text/html": [
       "<div>\n",
       "<style scoped>\n",
       "    .dataframe tbody tr th:only-of-type {\n",
       "        vertical-align: middle;\n",
       "    }\n",
       "\n",
       "    .dataframe tbody tr th {\n",
       "        vertical-align: top;\n",
       "    }\n",
       "\n",
       "    .dataframe thead th {\n",
       "        text-align: right;\n",
       "    }\n",
       "</style>\n",
       "<table border=\"1\" class=\"dataframe\">\n",
       "  <thead>\n",
       "    <tr style=\"text-align: right;\">\n",
       "      <th></th>\n",
       "      <th>0</th>\n",
       "      <th>1</th>\n",
       "      <th>2</th>\n",
       "      <th>3</th>\n",
       "      <th>4</th>\n",
       "      <th>5</th>\n",
       "      <th>6</th>\n",
       "      <th>7</th>\n",
       "    </tr>\n",
       "  </thead>\n",
       "  <tbody>\n",
       "    <tr>\n",
       "      <th>0</th>\n",
       "      <td>3</td>\n",
       "      <td>9</td>\n",
       "      <td>9</td>\n",
       "      <td>1</td>\n",
       "      <td>0</td>\n",
       "      <td>9</td>\n",
       "      <td>5</td>\n",
       "      <td>1</td>\n",
       "    </tr>\n",
       "  </tbody>\n",
       "</table>\n",
       "</div>"
      ],
      "text/plain": [
       "   0  1  2  3  4  5  6  7\n",
       "0  3  9  9  1  0  9  5  1"
      ]
     },
     "execution_count": 19,
     "metadata": {},
     "output_type": "execute_result"
    }
   ],
   "source": [
    "import pandas as pd\n",
    "import numpy as np\n",
    "\n",
    "df = pd.DataFrame(np.random.randint(0,10, size=(1,8)))\n",
    "df"
   ]
  },
  {
   "cell_type": "code",
   "execution_count": 10,
   "id": "fc3d1de0-74d9-4931-96c0-6cf375023b5d",
   "metadata": {},
   "outputs": [],
   "source": [
    "from typing import Any"
   ]
  },
  {
   "cell_type": "code",
   "execution_count": 40,
   "id": "edf6dd13-0cf4-4c21-acc3-ff14d53e91aa",
   "metadata": {},
   "outputs": [],
   "source": [
    "@task(name=\"context_get\", tags=[\"context\", \"getter\"])\n",
    "def context_get(get_key: str, ctx: Context) -> Any:\n",
    "    \"\"\"A simple context getter function\"\"\"\n",
    "    try:\n",
    "        response = ctx.get(key=get_key)\n",
    "        ctx.log.info(f\"Value retrieved from {get_key}\")\n",
    "        return response\n",
    "    except Exception as e:\n",
    "        return e"
   ]
  },
  {
   "cell_type": "code",
   "execution_count": 41,
   "id": "89a40730-633a-4e8f-ab6c-c9405f9ec9df",
   "metadata": {},
   "outputs": [
    {
     "name": "stdout",
     "output_type": "stream",
     "text": [
      "\u001b[0;34m[2023-11-29 19:45:16,912] [INFO] context_get has been successfully registered. The most recent version available is 0.2 !!\u001b[0m\n"
     ]
    }
   ],
   "source": [
    "context_get.register(\"Context_Examples\", \"A simple context getter function\", \"edit\", True, True)"
   ]
  },
  {
   "cell_type": "code",
   "execution_count": 29,
   "id": "d65f100d-8c6b-4dd8-9dc1-d98d8e5bc095",
   "metadata": {},
   "outputs": [],
   "source": [
    "from conversight import Flow, Parameter, TaskLibrary"
   ]
  },
  {
   "cell_type": "code",
   "execution_count": 42,
   "id": "8437afba-1b90-4d34-a080-983754d94e90",
   "metadata": {},
   "outputs": [
    {
     "name": "stdout",
     "output_type": "stream",
     "text": [
      "Tasks loaded  !!\n"
     ]
    }
   ],
   "source": [
    "tsk = TaskLibrary()"
   ]
  },
  {
   "cell_type": "code",
   "execution_count": 47,
   "id": "eb675ccf-61fb-4ef2-816b-86e08ecb82be",
   "metadata": {},
   "outputs": [],
   "source": [
    "description=\"A simple context manager flow\"\n",
    "with Flow(name=\"Getter_Setter\", description=description, tags = [\"Context\", \"getter\", \"setter\"]) as flow:\n",
    "    x = Parameter('set_key', \"my_key\")\n",
    "    y = Parameter('set_value', \"my_key\")\n",
    "    z = Parameter('get_key', \"\")\n",
    "    \n",
    "    xx = tsk.Context_Examples.context_set(x, y)\n",
    "    zz = tsk.Context_Examples.context_get(xx)"
   ]
  },
  {
   "cell_type": "code",
   "execution_count": 48,
   "id": "9160b55f-8017-4c88-a0d8-ae19fde2bcd9",
   "metadata": {},
   "outputs": [
    {
     "name": "stdout",
     "output_type": "stream",
     "text": [
      "skipLog is: False\n",
      "\u001b[0;34m[2023-11-29 20:05:34,862] [INFO] [Main-Flow]  Received request from AI Workbench, considering as test run..\u001b[0m\n",
      "\u001b[0;34m[2023-11-29 20:05:34,865] [INFO] Context Actor [8386939bdff341ee822ae74db94da72d] deployed..\u001b[0m\n",
      "\u001b[36m(runWrapperNotebook pid=664)\u001b[0m \u001b[0;34m[2023-11-29 20:05:50,855] [INFO] Value stored in my_key\u001b[0m\n",
      "\u001b[0;34m[2023-11-29 20:05:51,837] [INFO] [Main-Flow]  Flow response: [   0  1  2  3  4  5  6  7\n",
      "0  3  9  9  1  0  9  5  1]\u001b[0m\n"
     ]
    },
    {
     "data": {
      "text/plain": [
       "[   0  1  2  3  4  5  6  7\n",
       " 0  3  9  9  1  0  9  5  1]"
      ]
     },
     "execution_count": 48,
     "metadata": {},
     "output_type": "execute_result"
    },
    {
     "name": "stdout",
     "output_type": "stream",
     "text": [
      "\u001b[36m(runWrapperNotebook pid=683)\u001b[0m \u001b[0;34m[2023-11-29 20:05:51,834] [INFO] Value retrieved from my_key\u001b[0m\n"
     ]
    }
   ],
   "source": [
    "flow.run(set_key=\"my_key\", get_key=\"my_key\", set_value=df)"
   ]
  },
  {
   "cell_type": "code",
   "execution_count": 49,
   "id": "b799b02d-77ac-4536-bbe3-34344340b0c4",
   "metadata": {},
   "outputs": [
    {
     "data": {
      "text/plain": [
       "'The flow Getter_Setter has been registered successfully. Latest version available now is 0.1 !!'"
      ]
     },
     "execution_count": 49,
     "metadata": {},
     "output_type": "execute_result"
    }
   ],
   "source": [
    "flow.register(libraryName=\"Context_Examples\", flowName=\"Getter_Setter\", description=description)"
   ]
  },
  {
   "cell_type": "code",
   "execution_count": 50,
   "id": "5405f014-b67d-4eef-95e3-be46eb86fbe1",
   "metadata": {},
   "outputs": [
    {
     "name": "stdout",
     "output_type": "stream",
     "text": [
      "\u001b[0;34m[2023-11-29 20:19:37,622] [INFO] Dataset [655ceb56-HrXES9SSm] is active\u001b[0m\n",
      "\u001b[0;34m[2023-11-29 20:19:37,622] [INFO]  All datasets are verified and in Active status !!\u001b[0m\n"
     ]
    },
    {
     "data": {
      "text/plain": [
       "{'status': 'success',\n",
       " 'message': 'All datasets are verified and in Active status'}"
      ]
     },
     "execution_count": 50,
     "metadata": {},
     "output_type": "execute_result"
    }
   ],
   "source": [
    "ctx.waitUntilDatasetActive([\"655ceb56-HrXES9SSm\"])"
   ]
  },
  {
   "cell_type": "code",
   "execution_count": null,
   "id": "f6952997-960c-46be-b1be-f157135b4854",
   "metadata": {},
   "outputs": [],
   "source": []
  }
 ],
 "metadata": {
  "kernelspec": {
   "display_name": "Python 3 (ipykernel)",
   "language": "python",
   "name": "python3"
  },
  "language_info": {
   "codemirror_mode": {
    "name": "ipython",
    "version": 3
   },
   "file_extension": ".py",
   "mimetype": "text/x-python",
   "name": "python",
   "nbconvert_exporter": "python",
   "pygments_lexer": "ipython3",
   "version": "3.9.10"
  }
 },
 "nbformat": 4,
 "nbformat_minor": 5
}
