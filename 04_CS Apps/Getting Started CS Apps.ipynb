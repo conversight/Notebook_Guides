{
 "cells": [
  {
   "cell_type": "markdown",
   "id": "c4bbf8cc-e069-4bd5-86c5-2cdd8480fa00",
   "metadata": {},
   "source": [
    "# Conversight Apps - CS Apps"
   ]
  },
  {
   "cell_type": "markdown",
   "id": "b635ff37-909e-4785-a472-47ec585d4e15",
   "metadata": {},
   "source": [
    "CS Apps are machine Learning apps which is used to interact with data and train ML models to get insights out of it. cs apps are python functions which will be converted into UI components and handle the business logics for various user interactions at the run time"
   ]
  },
  {
   "cell_type": "markdown",
   "id": "2a9a54b9-9173-4fdd-8a68-27da03c0755e",
   "metadata": {},
   "source": [
    "## CS App Builder"
   ]
  },
  {
   "cell_type": "markdown",
   "id": "b12b876d-6460-419a-aef6-10a664f21088",
   "metadata": {},
   "source": [
    "This module serves as a builder part of the cs apps. This module consists of all the UI components which is used to create machine learning apps. To represent this python function as a cs app we need to decorate it with @uitask."
   ]
  },
  {
   "cell_type": "code",
   "execution_count": 1,
   "id": "faaaf307-6dbc-449f-aaf2-31c12d050146",
   "metadata": {},
   "outputs": [],
   "source": [
    "from conversight import csAppBuilder as capp\n",
    "from conversight import task, uitask , TaskLibrary , Flow , FlowLibrary"
   ]
  },
  {
   "cell_type": "code",
   "execution_count": 2,
   "id": "a5324d04-c5a6-4be5-9a7b-224da171e12b",
   "metadata": {},
   "outputs": [],
   "source": [
    "from csSDK import Dataset"
   ]
  },
  {
   "cell_type": "code",
   "execution_count": 4,
   "id": "b87d444b-0a0c-421d-8fb0-7c296ac6c919",
   "metadata": {},
   "outputs": [],
   "source": [
    "def update_smart(ctx, forecast_table, label):\n",
    "    \"\"\"update\"\"\"\n",
    "    try:\n",
    "        from conversight import SmartAnalytics\n",
    "        ctx.log.info(f\"label: {label}\")\n",
    "        sm_obj = SmartAnalytics(\"655cd38d-vLzjz9SIm\", ctx.token)\n",
    "        isCreated = sm_obj.create(\"NFL_Smart\", forecast_table, False, True, True, ctx.token)\n",
    "        label = \"Smart Analytics created Successfully\"\n",
    "        return label #capp.Label.update(value = label) #[#capp.Datatable.update(data=forecast_table)]\n",
    "    except Exception as e:\n",
    "        return e"
   ]
  },
  {
   "cell_type": "code",
   "execution_count": 5,
   "id": "5c202185-8ba2-4a0c-9900-648595281d1c",
   "metadata": {},
   "outputs": [
    {
     "name": "stdout",
     "output_type": "stream",
     "text": [
      "NFL Dataset loaded successfully\n",
      "\u001b[0;34m[2023-11-29 17:14:29,853] [INFO] Dataset is connected \u001b[0m\n",
      "https://analytics.conversight.ai/hub/user-redirect/proxy/7860/\n"
     ]
    },
    {
     "data": {
      "text/html": [
       "<div><iframe src=\"https://analytics.conversight.ai/hub/user-redirect/proxy/7860/\" width=\"900\" height=\"500\" allow=\"autoplay; camera; microphone;\" frameborder=\"0\" allowfullscreen></iframe></div>"
      ],
      "text/plain": [
       "<IPython.core.display.HTML object>"
      ]
     },
     "metadata": {},
     "output_type": "display_data"
    }
   ],
   "source": [
    "@uitask\n",
    "\n",
    "def NFL_Stats():\n",
    "    '''NFL dataset Display'''\n",
    "    try:\n",
    "\n",
    "        import os\n",
    "        import pandas as pd\n",
    "    \n",
    "        from csSDK import Dataset\n",
    "        from conversight import Context\n",
    "        ctx = Context()\n",
    "\n",
    "        ds = Dataset(\"655cd38d-vLzjz9SIm\", ctx.token) \n",
    "        ctx.log.info(\"Dataset is connected \")\n",
    "        reportcs = ds.sql_dataframe(\"\"\"SELECT \n",
    "                                          @nfl_offensive_stats.player AS \"player\",\n",
    "                                          @nfl_offensive_stats.team AS \"team\",\n",
    "                                        round(sum(coalesce(@nfl_offensive_stats.pass_hurried, 0)), 2\n",
    "                                            ) AS \"pass_hurried\"\n",
    "                                        FROM #nfl_offensive_stats GROUP BY player, team ORDER BY pass_hurried DESC\n",
    "                                        LIMIT 10\"\"\")\n",
    "\n",
    "        config = {   \n",
    "                    # \"showRowGroup\":True,\n",
    "                    \"expandAllGroupColumns\": True,\n",
    "                    \"allowRowSelection\":True,\n",
    "                    \"showColumnSettings\": False,\n",
    "                    \"showSideBar\":False,\n",
    "                    \"showFormattings\": False,\n",
    "                    \"multiSort\": True,\n",
    "                    \"fontHeader\":'11',\n",
    "                    # \"downloadExcel\":True,\n",
    "                    \"fontRow\":10\n",
    "                }\n",
    "        \n",
    "        with capp.Blocks(css=\"#btline1 {width: 1000%; margin-left: auto; margin-right: 1000;}\" ) as demo:\n",
    "            with capp.Column():\n",
    "                lb = capp.Label(value=\"NFL Data\" , show_label=True , visible=True)\n",
    "                forecastTable= capp.Datatable(data= reportcs, config=config)     \n",
    "                submit = capp.Button(\"Create Smartanalytics\").style(full_width=True)\n",
    "                submit.click(update, inputs=[forecastTable, lb], ret_props=[\"data\"])\n",
    "    except Exception as e:\n",
    "        return e"
   ]
  },
  {
   "cell_type": "markdown",
   "id": "ad7b4d1b-7339-40c2-8c81-cf45baa7de5c",
   "metadata": {},
   "source": [
    "## Register the cs app - uitask"
   ]
  },
  {
   "cell_type": "markdown",
   "id": "fe8d6843-7d80-44ff-9c46-bd9c0a6488ef",
   "metadata": {},
   "source": [
    "Registration is same as the regular tasks, no changes on the arguments except the tasks type which is handled internally when we decorate the function with @uitask"
   ]
  },
  {
   "cell_type": "code",
   "execution_count": null,
   "id": "03ea4832-dedb-4c26-b739-5ca4d8adbf31",
   "metadata": {},
   "outputs": [],
   "source": [
    "description = \"App that displays the NFL stats\"\n",
    "NFL_Stats.register(libraryName=\"cxapp\", description=description, sourceControl=\"edit\", apiAccess=True, deployable=True))"
   ]
  }
 ],
 "metadata": {
  "kernelspec": {
   "display_name": "Python 3 (ipykernel)",
   "language": "python",
   "name": "python3"
  },
  "language_info": {
   "codemirror_mode": {
    "name": "ipython",
    "version": 3
   },
   "file_extension": ".py",
   "mimetype": "text/x-python",
   "name": "python",
   "nbconvert_exporter": "python",
   "pygments_lexer": "ipython3",
   "version": "3.9.10"
  }
 },
 "nbformat": 4,
 "nbformat_minor": 5
}
