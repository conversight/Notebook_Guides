{
 "cells": [
  {
   "cell_type": "markdown",
   "id": "47372751-b53e-4d79-997e-3fe8df9edf24",
   "metadata": {
    "tags": []
   },
   "source": [
    "# Introduction to Conversight Tasks"
   ]
  },
  {
   "cell_type": "markdown",
   "id": "cc11a4b5-e009-4f18-b671-80ebdec8c5a0",
   "metadata": {},
   "source": [
    "A task is a function that represents a discrete unit of work in a workflow. They can take inputs, perform work, and return an output. A Prefect task can do almost anything a Python function can do. Use the @task decorator to designate a function as a task."
   ]
  },
  {
   "cell_type": "code",
   "execution_count": 1,
   "id": "fd2fd392-703b-4cec-9019-3e6d9d18fa62",
   "metadata": {},
   "outputs": [],
   "source": [
    "from conversight import task"
   ]
  },
  {
   "cell_type": "markdown",
   "id": "ea5bd7ea-9c32-42f7-9c8e-4de8cc5e947f",
   "metadata": {},
   "source": [
    "Create conversight task by decorating the python function with imported \"task\".\n",
    "The \"task\" has the following input arguments\n",
    "\n",
    "| Arguments     | Description |\n",
    "| :------------ | :----------- |\n",
    "| name | The name of the task, its an optional argument and function name will be taken if this field is empty |\n",
    "| tags | The list of tags associated with the task. |\n",
    "\n",
    "The user defined functions should follow the python [typed hints](https://www.python.org/dev/peps/pep-0484/) structure."
   ]
  },
  {
   "cell_type": "code",
   "execution_count": 2,
   "id": "2b6dac54-a718-49bd-9040-034220673168",
   "metadata": {},
   "outputs": [],
   "source": [
    "@task(name=\"multiplication\", tags=[\"Arithmetic\", \"calculation\"])\n",
    "def multiply(x: int, y: int) -> int:\n",
    "    \"\"\"A simple multiplication function\"\"\"\n",
    "    try:\n",
    "        return x * y\n",
    "    except Exception as e:\n",
    "        return e"
   ]
  },
  {
   "cell_type": "markdown",
   "id": "67614bbd-c508-4c4e-88d8-27acd0d3b32d",
   "metadata": {},
   "source": [
    "In the above function you can see the docstring and code is wrapped with try/except block. This is a standard practice in ConverSight platform to regisster the task, without this we can't perform firther task actions like run/register.\n",
    "\n",
    "Now the function has been created, We can run the function or verify it by using the \"run\" method associated with the function multiply"
   ]
  },
  {
   "cell_type": "code",
   "execution_count": 5,
   "id": "adefb25b-2f51-4bc8-82d8-a058b09365aa",
   "metadata": {},
   "outputs": [
    {
     "data": {
      "text/plain": [
       "25"
      ]
     },
     "execution_count": 5,
     "metadata": {},
     "output_type": "execute_result"
    }
   ],
   "source": [
    "multiply.run(5,5)"
   ]
  },
  {
   "cell_type": "markdown",
   "id": "dc4fce72-dd66-4c77-9b11-06a03f1feda8",
   "metadata": {},
   "source": [
    "Once we are good with the function it can be registered to the conversight task libraries by using the \"register\" method.\n",
    "\n",
    "The register method has the following arguments\n",
    "\n",
    "| Arguments     | Description |\n",
    "| :------------ | :----------- |\n",
    "| libraryName   | The name of the library the task has to be registered. It cannot be empty and spaces are not allowedThe name of the library the task has to be registered. It cannot be empty and spaces are not allowed         |\n",
    "| description   | Description of the task        |\n",
    "| apiAccess     | When True this task can be executed through API mode, default to False |\n",
    "| sourceControl | Following options are supported (view, edit, noAccess), default to noAccess |\n",
    "| deployable    | When True this task can be executed as deployable task through API, default to False |\n",
    "| taskType      | Define the type of the task values are [generic/UI/operational], default to generic |"
   ]
  },
  {
   "cell_type": "code",
   "execution_count": 4,
   "id": "63a25427-9ba8-4329-b926-23ba2875118f",
   "metadata": {},
   "outputs": [
    {
     "name": "stdout",
     "output_type": "stream",
     "text": [
      "\u001b[0;34m[2023-11-29 04:28:05,501] [INFO] multiplication has been successfully registered. The most recent version available is 0.4 !!\u001b[0m\n"
     ]
    }
   ],
   "source": [
    "description = \"A simple multiplication function\"\n",
    "multiply.register(\"Arithmetic\", description, \"edit\", True, True)"
   ]
  },
  {
   "cell_type": "markdown",
   "id": "36584a55-7857-4963-97d3-bc398ed4481d",
   "metadata": {},
   "source": [
    "By default, the task created from notebook has the level \"U\" (user). To access the task as org level, We need to change the level to \"O\" (Org) using the \"promote\" method.\n",
    "\n",
    "The promote method has the following arguments\n",
    "| Arguments         | Description |\n",
    "| :------------     | :----------- |\n",
    "| libraryName | The name of the library the task has to promote. It can't be empty and spaces are not allowed. It will be created automatically if the name is not in conversigh |\n",
    "| level  | The level of the task to be promoted. It can't be empty. Available levels are [U, O, P] => [User, ORG, Platform]. |\n",
    "| version | The version of the task to be promoted. It's an optional argument. By default latest version will be promoted if no version provided |\n"
   ]
  },
  {
   "cell_type": "code",
   "execution_count": 7,
   "id": "ba5bc746-6f9e-4d40-9186-6eebc3e04e7c",
   "metadata": {},
   "outputs": [
    {
     "data": {
      "text/plain": [
       "'The task multiplication has been promoted to P successfully !!'"
      ]
     },
     "execution_count": 7,
     "metadata": {},
     "output_type": "execute_result"
    }
   ],
   "source": [
    "multiply.promote(\"Arithmetic\", \"O\")"
   ]
  },
  {
   "cell_type": "markdown",
   "id": "c5ed9ad9-9f6b-4294-a4b6-f3d1b4add198",
   "metadata": {},
   "source": [
    "Now the task has been registered and promoted to level \"O\" it's time to import the task library and use the different task management features"
   ]
  },
  {
   "cell_type": "code",
   "execution_count": 2,
   "id": "057554ff-650d-4fd7-a620-e700e8feb343",
   "metadata": {},
   "outputs": [],
   "source": [
    "from conversight import TaskLibrary"
   ]
  },
  {
   "cell_type": "markdown",
   "id": "2807d39d-1cf5-4262-8001-4c66526a72e5",
   "metadata": {},
   "source": [
    "By default the tasks with level \"U, O, P\" will be loaded on the library"
   ]
  },
  {
   "cell_type": "code",
   "execution_count": 3,
   "id": "df26e29a-9368-4261-8c4e-ce9352d3ee47",
   "metadata": {},
   "outputs": [
    {
     "name": "stdout",
     "output_type": "stream",
     "text": [
      "Tasks loaded  !!\n"
     ]
    }
   ],
   "source": [
    "tsk = TaskLibrary()"
   ]
  },
  {
   "cell_type": "markdown",
   "id": "9aa54a2c-527c-4ece-9fdf-2186945664c5",
   "metadata": {},
   "source": [
    "All you have to do is ```tsk.``` Now we can see the task \"multiplication\" show up on the library \"Arithmetic\". To see the summary of the task \"multiplication\" do ```tsk.Arithmetic.multiplication``` and press shift + enter"
   ]
  },
  {
   "cell_type": "code",
   "execution_count": 4,
   "id": "d3adbbb4-ff0e-4f94-9d58-74a481662ecf",
   "metadata": {},
   "outputs": [
    {
     "data": {
      "text/html": [
       "<html><head><style>\n",
       "            #table_css {\n",
       "            font-family: Arial, Helvetica, sans-serif;\n",
       "            border-collapse: collapse;\n",
       "            width: 99.8%;\n",
       "            table-layout: auto;\n",
       "            font-size: 14px\n",
       "            }\n",
       "            #table_css td, #table_css th {\n",
       "            border: 1px solid #ddd;\n",
       "            padding: 8px;\n",
       "            text-align:center;\n",
       "            width:auto;\n",
       "            }\n",
       "            #table_css tr {background-color: #f2f2f2;}\n",
       "            #table_css tr:hover {background-color: #ddd;}\n",
       "            #table_css th {\n",
       "            padding-top: 12px;\n",
       "            padding-bottom: 12px;\n",
       "            text-align: center;\n",
       "            background-color: #04AA6D;\n",
       "            color: white;\n",
       "            }\n",
       "            .left-align {text-align:left !important;}\n",
       "    </style></head><body><table id='table_css'><tr> <th>#</th> <th>Version</th> <th>Description</th> <th>Type</th> <th style='width: 62px;'>Sub Type</th> <th>Level</th> <th>Inputs</th> <th>Outputs</th> <th style='width: 110px;'>Registered ORG</th> <th>Slug</th> </tr> <tr> <td>1 </td> <td> 0.1 </td> <td class='left-align'> A simple arithmetic task </td> <td> generic </td>  <td> Function </td> <td> P </td> <td> x: <class 'int'>, y: <class 'int'> </td> <td> <class 'int'> </td> <td> data_science_alpha </td> <td> 8a7069c6-beaf-4525-90ac-f43a4518f6ca </td></tr><tr> <td>2 </td> <td> 0.4 </td> <td class='left-align'> A simple multiplication function </td> <td> generic </td>  <td> Function </td> <td> U </td> <td> x: int, y: int </td> <td> Name </td> <td> Cxapp </td> <td> 8a7069c6-beaf-4525-90ac-f43a4518f6ca </td></tr> </table></body></html>"
      ],
      "text/plain": [
       "<IPython.core.display.HTML object>"
      ]
     },
     "metadata": {},
     "output_type": "display_data"
    },
    {
     "data": {
      "text/plain": []
     },
     "execution_count": 4,
     "metadata": {},
     "output_type": "execute_result"
    }
   ],
   "source": [
    "tsk.Arithmetic.multiplication"
   ]
  },
  {
   "cell_type": "markdown",
   "id": "c661b10a-c8f7-4d4c-8934-79cd8f9544b0",
   "metadata": {},
   "source": [
    "Since this task is part of task library it has the following features\n",
    "- run\n",
    "  - This method takes the task arguments as inputs and runs the task\n",
    "- getVersions\n",
    "   - This method will retrieve the available version for the multiplication task based on the access level\n",
    "- setVersion\n",
    "   - This method sets the version of the task to be used for othe features. It has the following arguments.\n",
    "     - [ ] version (float): the version of the task to be set as current version\n",
    "- deleteVersion\n",
    "   - This method deletes the specific version of the task\n",
    "     - [ ] version (float): the version of the task to be deleted\n",
    "- delete\n",
    "  - Regardless of the version, this method deleted the entire task. It will ask a confirmation before deleting the task. This action cannot be reversed\n",
    "- showCode/editCode\n",
    "    - This methods allows the user to see/edit the source code of the python function"
   ]
  },
  {
   "cell_type": "code",
   "execution_count": 15,
   "id": "31189c0f-0f4d-4bda-8455-dbb462e841b6",
   "metadata": {},
   "outputs": [
    {
     "data": {
      "text/plain": [
       "25"
      ]
     },
     "execution_count": 15,
     "metadata": {},
     "output_type": "execute_result"
    }
   ],
   "source": [
    "tsk.Arithmetic.multiplication.run(5,5)"
   ]
  },
  {
   "cell_type": "code",
   "execution_count": 6,
   "id": "a56ab8c3-fc11-450f-8b03-eec31fbd2a18",
   "metadata": {},
   "outputs": [
    {
     "name": "stdout",
     "output_type": "stream",
     "text": [
      "Version 0.4 for the task multiplication has been successfully promoted to O  !!\n",
      "Tasks loaded  !!\n"
     ]
    }
   ],
   "source": [
    "tsk.Arithmetic.multiplication.promote(\"O\")"
   ]
  },
  {
   "cell_type": "code",
   "execution_count": 12,
   "id": "0a11a6fb-af3c-4e82-b855-768e6427a666",
   "metadata": {},
   "outputs": [
    {
     "data": {
      "text/plain": [
       "\"At this moment U have the following versions: ['0.1', '0.4']\""
      ]
     },
     "execution_count": 12,
     "metadata": {},
     "output_type": "execute_result"
    }
   ],
   "source": [
    "tsk.Arithmetic.multiplication.getVersions()"
   ]
  },
  {
   "cell_type": "code",
   "execution_count": 11,
   "id": "b38810e7-66c7-452f-aec1-1f4f346840a4",
   "metadata": {},
   "outputs": [
    {
     "data": {
      "text/plain": [
       "'multiplication version switched to 0.1'"
      ]
     },
     "execution_count": 11,
     "metadata": {},
     "output_type": "execute_result"
    }
   ],
   "source": [
    "tsk.Arithmetic.multiplication.setVersion(0.1)"
   ]
  },
  {
   "cell_type": "code",
   "execution_count": 7,
   "id": "f5fad9a1-aabb-4c8c-a224-f84f9cea3b47",
   "metadata": {},
   "outputs": [
    {
     "name": "stdout",
     "output_type": "stream",
     "text": [
      "Version 0.4 for the task multiplication has been successfully promoted to U  !!\n",
      "Tasks loaded  !!\n"
     ]
    }
   ],
   "source": [
    "tsk.Arithmetic.multiplication.promote(\"U\")"
   ]
  },
  {
   "cell_type": "code",
   "execution_count": 13,
   "id": "2db13e2f-2e14-46a7-b673-516159ea9c11",
   "metadata": {},
   "outputs": [
    {
     "data": {
      "text/html": [
       "<!DOCTYPE html PUBLIC \"-//W3C//DTD HTML 4.01//EN\"\n",
       "   \"http://www.w3.org/TR/html4/strict.dtd\">\n",
       "<!--\n",
       "generated by Pygments <https://pygments.org/>\n",
       "Copyright 2006-2022 by the Pygments team.\n",
       "Licensed under the BSD license, see LICENSE for details.\n",
       "-->\n",
       "<html>\n",
       "<head>\n",
       "  <title></title>\n",
       "  <meta http-equiv=\"content-type\" content=\"text/html; charset=None\">\n",
       "  <style type=\"text/css\">\n",
       "/*\n",
       "generated by Pygments <https://pygments.org/>\n",
       "Copyright 2006-2022 by the Pygments team.\n",
       "Licensed under the BSD license, see LICENSE for details.\n",
       "*/\n",
       "pre { line-height: 125%; }\n",
       "td.linenos .normal { color: inherit; background-color: transparent; padding-left: 5px; padding-right: 5px; }\n",
       "span.linenos { color: inherit; background-color: transparent; padding-left: 5px; padding-right: 5px; }\n",
       "td.linenos .special { color: #000000; background-color: #ffffc0; padding-left: 5px; padding-right: 5px; }\n",
       "span.linenos.special { color: #000000; background-color: #ffffc0; padding-left: 5px; padding-right: 5px; }\n",
       "body .hll { background-color: #ffffcc }\n",
       "body { background: #f8f8f8; }\n",
       "body .c { color: #3D7B7B; font-style: italic } /* Comment */\n",
       "body .err { border: 1px solid #FF0000 } /* Error */\n",
       "body .k { color: #008000; font-weight: bold } /* Keyword */\n",
       "body .o { color: #666666 } /* Operator */\n",
       "body .ch { color: #3D7B7B; font-style: italic } /* Comment.Hashbang */\n",
       "body .cm { color: #3D7B7B; font-style: italic } /* Comment.Multiline */\n",
       "body .cp { color: #9C6500 } /* Comment.Preproc */\n",
       "body .cpf { color: #3D7B7B; font-style: italic } /* Comment.PreprocFile */\n",
       "body .c1 { color: #3D7B7B; font-style: italic } /* Comment.Single */\n",
       "body .cs { color: #3D7B7B; font-style: italic } /* Comment.Special */\n",
       "body .gd { color: #A00000 } /* Generic.Deleted */\n",
       "body .ge { font-style: italic } /* Generic.Emph */\n",
       "body .gr { color: #E40000 } /* Generic.Error */\n",
       "body .gh { color: #000080; font-weight: bold } /* Generic.Heading */\n",
       "body .gi { color: #008400 } /* Generic.Inserted */\n",
       "body .go { color: #717171 } /* Generic.Output */\n",
       "body .gp { color: #000080; font-weight: bold } /* Generic.Prompt */\n",
       "body .gs { font-weight: bold } /* Generic.Strong */\n",
       "body .gu { color: #800080; font-weight: bold } /* Generic.Subheading */\n",
       "body .gt { color: #0044DD } /* Generic.Traceback */\n",
       "body .kc { color: #008000; font-weight: bold } /* Keyword.Constant */\n",
       "body .kd { color: #008000; font-weight: bold } /* Keyword.Declaration */\n",
       "body .kn { color: #008000; font-weight: bold } /* Keyword.Namespace */\n",
       "body .kp { color: #008000 } /* Keyword.Pseudo */\n",
       "body .kr { color: #008000; font-weight: bold } /* Keyword.Reserved */\n",
       "body .kt { color: #B00040 } /* Keyword.Type */\n",
       "body .m { color: #666666 } /* Literal.Number */\n",
       "body .s { color: #BA2121 } /* Literal.String */\n",
       "body .na { color: #687822 } /* Name.Attribute */\n",
       "body .nb { color: #008000 } /* Name.Builtin */\n",
       "body .nc { color: #0000FF; font-weight: bold } /* Name.Class */\n",
       "body .no { color: #880000 } /* Name.Constant */\n",
       "body .nd { color: #AA22FF } /* Name.Decorator */\n",
       "body .ni { color: #717171; font-weight: bold } /* Name.Entity */\n",
       "body .ne { color: #CB3F38; font-weight: bold } /* Name.Exception */\n",
       "body .nf { color: #0000FF } /* Name.Function */\n",
       "body .nl { color: #767600 } /* Name.Label */\n",
       "body .nn { color: #0000FF; font-weight: bold } /* Name.Namespace */\n",
       "body .nt { color: #008000; font-weight: bold } /* Name.Tag */\n",
       "body .nv { color: #19177C } /* Name.Variable */\n",
       "body .ow { color: #AA22FF; font-weight: bold } /* Operator.Word */\n",
       "body .w { color: #bbbbbb } /* Text.Whitespace */\n",
       "body .mb { color: #666666 } /* Literal.Number.Bin */\n",
       "body .mf { color: #666666 } /* Literal.Number.Float */\n",
       "body .mh { color: #666666 } /* Literal.Number.Hex */\n",
       "body .mi { color: #666666 } /* Literal.Number.Integer */\n",
       "body .mo { color: #666666 } /* Literal.Number.Oct */\n",
       "body .sa { color: #BA2121 } /* Literal.String.Affix */\n",
       "body .sb { color: #BA2121 } /* Literal.String.Backtick */\n",
       "body .sc { color: #BA2121 } /* Literal.String.Char */\n",
       "body .dl { color: #BA2121 } /* Literal.String.Delimiter */\n",
       "body .sd { color: #BA2121; font-style: italic } /* Literal.String.Doc */\n",
       "body .s2 { color: #BA2121 } /* Literal.String.Double */\n",
       "body .se { color: #AA5D1F; font-weight: bold } /* Literal.String.Escape */\n",
       "body .sh { color: #BA2121 } /* Literal.String.Heredoc */\n",
       "body .si { color: #A45A77; font-weight: bold } /* Literal.String.Interpol */\n",
       "body .sx { color: #008000 } /* Literal.String.Other */\n",
       "body .sr { color: #A45A77 } /* Literal.String.Regex */\n",
       "body .s1 { color: #BA2121 } /* Literal.String.Single */\n",
       "body .ss { color: #19177C } /* Literal.String.Symbol */\n",
       "body .bp { color: #008000 } /* Name.Builtin.Pseudo */\n",
       "body .fm { color: #0000FF } /* Name.Function.Magic */\n",
       "body .vc { color: #19177C } /* Name.Variable.Class */\n",
       "body .vg { color: #19177C } /* Name.Variable.Global */\n",
       "body .vi { color: #19177C } /* Name.Variable.Instance */\n",
       "body .vm { color: #19177C } /* Name.Variable.Magic */\n",
       "body .il { color: #666666 } /* Literal.Number.Integer.Long */\n",
       "\n",
       "  </style>\n",
       "</head>\n",
       "<body>\n",
       "<h2></h2>\n",
       "\n",
       "<div class=\"highlight\"><pre><span></span><span class=\"nd\">@task</span><span class=\"p\">(</span><span class=\"n\">name</span><span class=\"o\">=</span><span class=\"s2\">&quot;multiplication&quot;</span><span class=\"p\">,</span> <span class=\"n\">tags</span><span class=\"o\">=</span><span class=\"p\">[</span><span class=\"s2\">&quot;Arithmetic&quot;</span><span class=\"p\">,</span> <span class=\"s2\">&quot;calculation&quot;</span><span class=\"p\">])</span>\n",
       "<span class=\"k\">def</span> <span class=\"nf\">multiply</span><span class=\"p\">(</span><span class=\"n\">x</span><span class=\"p\">:</span> <span class=\"nb\">int</span><span class=\"p\">,</span> <span class=\"n\">y</span><span class=\"p\">:</span> <span class=\"nb\">int</span><span class=\"p\">)</span> <span class=\"o\">-&gt;</span> <span class=\"nb\">int</span><span class=\"p\">:</span>\n",
       "    <span class=\"nb\">print</span><span class=\"p\">(</span><span class=\"s2\">&quot;second output is </span><span class=\"si\">{}</span><span class=\"s2\">&quot;</span><span class=\"o\">.</span><span class=\"n\">format</span><span class=\"p\">(</span><span class=\"n\">x</span><span class=\"o\">*</span><span class=\"n\">y</span><span class=\"p\">))</span>\n",
       "    <span class=\"k\">return</span> <span class=\"n\">x</span><span class=\"o\">*</span><span class=\"n\">y</span>\n",
       "</pre></div>\n",
       "</body>\n",
       "</html>\n"
      ],
      "text/plain": [
       "<IPython.core.display.HTML object>"
      ]
     },
     "metadata": {},
     "output_type": "display_data"
    }
   ],
   "source": [
    "tsk.Arithmetic.multiplication.showCode()"
   ]
  }
 ],
 "metadata": {
  "kernelspec": {
   "display_name": "Python 3 (ipykernel)",
   "language": "python",
   "name": "python3"
  },
  "language_info": {
   "codemirror_mode": {
    "name": "ipython",
    "version": 3
   },
   "file_extension": ".py",
   "mimetype": "text/x-python",
   "name": "python",
   "nbconvert_exporter": "python",
   "pygments_lexer": "ipython3",
   "version": "3.9.10"
  }
 },
 "nbformat": 4,
 "nbformat_minor": 5
}
