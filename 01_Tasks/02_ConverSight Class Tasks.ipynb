{
 "cells": [
  {
   "cell_type": "markdown",
   "id": "f59a57b8-fd81-42e5-8ee0-5ee3dabe09be",
   "metadata": {},
   "source": [
    "# Introduction to Conversight Class Tasks"
   ]
  },
  {
   "cell_type": "markdown",
   "id": "9e01b3aa-b1e2-4daf-89d0-9f17b56729d3",
   "metadata": {},
   "source": [
    "Class tasks are same as conversight tasks which have  multiple functions as multiple endpoints of this task. Each endpoint can be executed independently based on the business logics written on the class task. Let's create our first class task by importing task from conversight task\n",
    "\n",
    "This class task we used the conversight Context module, check the 02_Context folder to know more about how context works"
   ]
  },
  {
   "cell_type": "code",
   "execution_count": 2,
   "id": "6967b716-d532-4272-b997-e3d177c7471e",
   "metadata": {},
   "outputs": [],
   "source": [
    "from conversight import task, Context"
   ]
  },
  {
   "cell_type": "code",
   "execution_count": 9,
   "id": "e0ebb698-5b2e-473e-9e8f-9d847e006471",
   "metadata": {},
   "outputs": [
    {
     "name": "stdout",
     "output_type": "stream",
     "text": [
      "\u001b[33;20m[2023-11-30 19:37:10,145] [WARNING] Class detected, task functionalities are limited..\n",
      "1. Each class method should have context argument like ctx: Context\n",
      "2. Method arguments must pass as keyword arguments like await Computations.run(greet=welcome)\n",
      "3. Do not initiate context class, object will be passed dynamically at run time\n",
      "4. All the methods inside the class must be asynchronous (async def)\n",
      "5. Class tasks are not supported on flows right now\u001b[0m\n"
     ]
    }
   ],
   "source": [
    "@task\n",
    "class Computations:\n",
    "    def __init__(self):\n",
    "        self.greetings = \"Hello\"\n",
    "    async def run(self, nterms: int, ctx: Context):\n",
    "        \"\"\"Default run method for this Computations\"\"\"\n",
    "        try:\n",
    "            response = await self.fibonacci(nterms, ctx)\n",
    "            return f\"{self.greetings} {ctx.session.display_name} the fibonacci series for the term {nterms} is {str(response)}\"\n",
    "        except Exception as e:\n",
    "            return e\n",
    "    async def fibonacci(self, nterms: int, ctx: Context):\n",
    "        \"\"\"Program to display the Fibonacci sequence up to n-th term\"\"\"\n",
    "        try:\n",
    "            n1, n2 = 0, 1\n",
    "            count = 0\n",
    "            if nterms <= 0:\n",
    "               return \"Please enter a positive integer\"\n",
    "            elif nterms == 1:\n",
    "                return nterms\n",
    "            else:\n",
    "                out = []\n",
    "                while count < nterms:\n",
    "                    out.append(n1)\n",
    "                    nth = n1 + n2\n",
    "                    # update values\n",
    "                    n1 = n2\n",
    "                    n2 = nth\n",
    "                    count += 1\n",
    "                return out\n",
    "        except Exception as e:\n",
    "            return e"
   ]
  },
  {
   "cell_type": "code",
   "execution_count": 14,
   "id": "3b5aa83b-21a9-4028-9fbe-18864e192784",
   "metadata": {},
   "outputs": [
    {
     "data": {
      "text/plain": [
       "'Hello Athena the fibonacci series for the term 4 is [0, 1, 1, 2]'"
      ]
     },
     "execution_count": 14,
     "metadata": {},
     "output_type": "execute_result"
    }
   ],
   "source": [
    "await Computations.run(nterms=4)"
   ]
  },
  {
   "cell_type": "code",
   "execution_count": null,
   "id": "6f4055e6-7827-4464-bdb0-96cd1da6c615",
   "metadata": {},
   "outputs": [],
   "source": []
  }
 ],
 "metadata": {
  "kernelspec": {
   "display_name": "Python 3 (ipykernel)",
   "language": "python",
   "name": "python3"
  },
  "language_info": {
   "codemirror_mode": {
    "name": "ipython",
    "version": 3
   },
   "file_extension": ".py",
   "mimetype": "text/x-python",
   "name": "python",
   "nbconvert_exporter": "python",
   "pygments_lexer": "ipython3",
   "version": "3.9.10"
  }
 },
 "nbformat": 4,
 "nbformat_minor": 5
}
